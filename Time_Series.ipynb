{
 "cells": [
  {
   "cell_type": "markdown",
   "metadata": {},
   "source": [
    "# Taxi Order Analysis"
   ]
  },
  {
   "cell_type": "markdown",
   "metadata": {},
   "source": [
    "# Project description\n",
    "\n",
    "Sweet Lift Taxi company has collected historical data on taxi orders at airports. To attract more drivers during peak hours, we need to predict the amount of taxi orders for the next hour. Build a model for such a prediction.\n",
    "\n",
    "The RMSE metric on the test set should not be more than 48.\n",
    "\n",
    "## Project instructions\n",
    "\n",
    "1. Download the data and resample it by one hour.\n",
    "2. Analyze the data.\n",
    "3. Train different models with different hyperparameters. The test sample should be 10% of the initial dataset. \n",
    "4. Test the data using the test sample and provide a conclusion.\n",
    "\n",
    "## Data description\n",
    "\n",
    "The data is stored in file `taxi.csv`. The number of orders is in the '*num_orders*' column."
   ]
  },
  {
   "cell_type": "markdown",
   "metadata": {},
   "source": [
    "## Preparation"
   ]
  },
  {
   "cell_type": "code",
   "execution_count": 1,
   "metadata": {},
   "outputs": [],
   "source": [
    "import numpy as np\n",
    "\n",
    "import matplotlib.pyplot as plt\n",
    "\n",
    "from sklearn.preprocessing import MinMaxScaler\n",
    "from sklearn.model_selection import train_test_split, GridSearchCV, TimeSeriesSplit\n",
    "from sklearn.metrics import mean_squared_error, mean_absolute_error\n",
    "from sklearn.linear_model import LinearRegression\n",
    "from sklearn.ensemble import RandomForestRegressor\n",
    "\n",
    "from sklearn.base import BaseEstimator, RegressorMixin\n",
    "from statsmodels.tsa.seasonal import seasonal_decompose\n",
    "from pmdarima import auto_arima\n",
    "from statsmodels.tsa.arima.model import ARIMA\n",
    "from statsmodels.tsa.statespace.sarimax import SARIMAX\n",
    "\n",
    "from tensorflow.keras.models import Sequential\n",
    "from tensorflow.keras.layers import LSTM, Dense, Dropout"
   ]
  },
  {
   "cell_type": "code",
   "execution_count": 2,
   "metadata": {},
   "outputs": [],
   "source": [
    "import pandas as pd"
   ]
  },
  {
   "cell_type": "code",
   "execution_count": 3,
   "metadata": {},
   "outputs": [],
   "source": [
    "'''\n",
    "For some reason the usual path (/datasets/taxi.csv) was returning a FileNotFoundError,\n",
    "so I uploaded the dataset to the same location as the notebook and did the following\n",
    "'''\n",
    "\n",
    "try:\n",
    "    df = pd.read_csv('/datasets/taxi.csv',index_col=[0], parse_dates=[0])\n",
    "except FileNotFoundError:\n",
    "    df = pd.read_csv('taxi.csv',index_col=[0], parse_dates=[0])"
   ]
  },
  {
   "cell_type": "code",
   "execution_count": 3,
   "metadata": {},
   "outputs": [],
   "source": [
    "df.sort_index(inplace=True)"
   ]
  },
  {
   "cell_type": "code",
   "execution_count": 4,
   "metadata": {},
   "outputs": [
    {
     "data": {
      "text/plain": [
       "num_orders    0\n",
       "dtype: int64"
      ]
     },
     "execution_count": 4,
     "metadata": {},
     "output_type": "execute_result"
    }
   ],
   "source": [
    "df.isna().sum()"
   ]
  },
  {
   "cell_type": "code",
   "execution_count": 5,
   "metadata": {},
   "outputs": [
    {
     "data": {
      "text/html": [
       "<div>\n",
       "<style scoped>\n",
       "    .dataframe tbody tr th:only-of-type {\n",
       "        vertical-align: middle;\n",
       "    }\n",
       "\n",
       "    .dataframe tbody tr th {\n",
       "        vertical-align: top;\n",
       "    }\n",
       "\n",
       "    .dataframe thead th {\n",
       "        text-align: right;\n",
       "    }\n",
       "</style>\n",
       "<table border=\"1\" class=\"dataframe\">\n",
       "  <thead>\n",
       "    <tr style=\"text-align: right;\">\n",
       "      <th></th>\n",
       "      <th>num_orders</th>\n",
       "    </tr>\n",
       "    <tr>\n",
       "      <th>datetime</th>\n",
       "      <th></th>\n",
       "    </tr>\n",
       "  </thead>\n",
       "  <tbody>\n",
       "    <tr>\n",
       "      <th>2018-03-01 00:00:00</th>\n",
       "      <td>9</td>\n",
       "    </tr>\n",
       "    <tr>\n",
       "      <th>2018-03-01 00:10:00</th>\n",
       "      <td>14</td>\n",
       "    </tr>\n",
       "    <tr>\n",
       "      <th>2018-03-01 00:20:00</th>\n",
       "      <td>28</td>\n",
       "    </tr>\n",
       "    <tr>\n",
       "      <th>2018-03-01 00:30:00</th>\n",
       "      <td>20</td>\n",
       "    </tr>\n",
       "    <tr>\n",
       "      <th>2018-03-01 00:40:00</th>\n",
       "      <td>32</td>\n",
       "    </tr>\n",
       "    <tr>\n",
       "      <th>2018-03-01 00:50:00</th>\n",
       "      <td>21</td>\n",
       "    </tr>\n",
       "    <tr>\n",
       "      <th>2018-03-01 01:00:00</th>\n",
       "      <td>7</td>\n",
       "    </tr>\n",
       "    <tr>\n",
       "      <th>2018-03-01 01:10:00</th>\n",
       "      <td>5</td>\n",
       "    </tr>\n",
       "    <tr>\n",
       "      <th>2018-03-01 01:20:00</th>\n",
       "      <td>17</td>\n",
       "    </tr>\n",
       "    <tr>\n",
       "      <th>2018-03-01 01:30:00</th>\n",
       "      <td>12</td>\n",
       "    </tr>\n",
       "  </tbody>\n",
       "</table>\n",
       "</div>"
      ],
      "text/plain": [
       "                     num_orders\n",
       "datetime                       \n",
       "2018-03-01 00:00:00           9\n",
       "2018-03-01 00:10:00          14\n",
       "2018-03-01 00:20:00          28\n",
       "2018-03-01 00:30:00          20\n",
       "2018-03-01 00:40:00          32\n",
       "2018-03-01 00:50:00          21\n",
       "2018-03-01 01:00:00           7\n",
       "2018-03-01 01:10:00           5\n",
       "2018-03-01 01:20:00          17\n",
       "2018-03-01 01:30:00          12"
      ]
     },
     "execution_count": 5,
     "metadata": {},
     "output_type": "execute_result"
    }
   ],
   "source": [
    "df.head(10)"
   ]
  },
  {
   "cell_type": "markdown",
   "metadata": {},
   "source": [
    "## Analysis"
   ]
  },
  {
   "cell_type": "markdown",
   "metadata": {},
   "source": [
    "**Whole Data**"
   ]
  },
  {
   "cell_type": "code",
   "execution_count": 6,
   "metadata": {},
   "outputs": [],
   "source": [
    "df_resampled = df.resample('1H').sum()"
   ]
  },
  {
   "cell_type": "code",
   "execution_count": 7,
   "metadata": {
    "scrolled": true
   },
   "outputs": [
    {
     "data": {
      "text/plain": [
       "num_orders    0\n",
       "dtype: int64"
      ]
     },
     "execution_count": 7,
     "metadata": {},
     "output_type": "execute_result"
    }
   ],
   "source": [
    "df_resampled.isna().sum()"
   ]
  },
  {
   "cell_type": "code",
   "execution_count": 8,
   "metadata": {},
   "outputs": [
    {
     "data": {
      "text/html": [
       "<div>\n",
       "<style scoped>\n",
       "    .dataframe tbody tr th:only-of-type {\n",
       "        vertical-align: middle;\n",
       "    }\n",
       "\n",
       "    .dataframe tbody tr th {\n",
       "        vertical-align: top;\n",
       "    }\n",
       "\n",
       "    .dataframe thead th {\n",
       "        text-align: right;\n",
       "    }\n",
       "</style>\n",
       "<table border=\"1\" class=\"dataframe\">\n",
       "  <thead>\n",
       "    <tr style=\"text-align: right;\">\n",
       "      <th></th>\n",
       "      <th>num_orders</th>\n",
       "    </tr>\n",
       "    <tr>\n",
       "      <th>datetime</th>\n",
       "      <th></th>\n",
       "    </tr>\n",
       "  </thead>\n",
       "  <tbody>\n",
       "    <tr>\n",
       "      <th>2018-03-01 00:00:00</th>\n",
       "      <td>124</td>\n",
       "    </tr>\n",
       "    <tr>\n",
       "      <th>2018-03-01 01:00:00</th>\n",
       "      <td>85</td>\n",
       "    </tr>\n",
       "    <tr>\n",
       "      <th>2018-03-01 02:00:00</th>\n",
       "      <td>71</td>\n",
       "    </tr>\n",
       "    <tr>\n",
       "      <th>2018-03-01 03:00:00</th>\n",
       "      <td>66</td>\n",
       "    </tr>\n",
       "    <tr>\n",
       "      <th>2018-03-01 04:00:00</th>\n",
       "      <td>43</td>\n",
       "    </tr>\n",
       "  </tbody>\n",
       "</table>\n",
       "</div>"
      ],
      "text/plain": [
       "                     num_orders\n",
       "datetime                       \n",
       "2018-03-01 00:00:00         124\n",
       "2018-03-01 01:00:00          85\n",
       "2018-03-01 02:00:00          71\n",
       "2018-03-01 03:00:00          66\n",
       "2018-03-01 04:00:00          43"
      ]
     },
     "execution_count": 8,
     "metadata": {},
     "output_type": "execute_result"
    }
   ],
   "source": [
    "df_resampled.head()"
   ]
  },
  {
   "cell_type": "code",
   "execution_count": 9,
   "metadata": {},
   "outputs": [],
   "source": [
    "decomposed = seasonal_decompose(df_resampled)"
   ]
  },
  {
   "cell_type": "code",
   "execution_count": 10,
   "metadata": {},
   "outputs": [
    {
     "data": {
      "image/png": "[encoded data removed]",
      "text/plain": [
       "<Figure size 1200x1200 with 3 Axes>"
      ]
     },
     "metadata": {},
     "output_type": "display_data"
    }
   ],
   "source": [
    "# seasonal decomposition to view data, trend and seasonality\n",
    "plt.figure(figsize=(12, 12))\n",
    "\n",
    "plt.subplot(311)\n",
    "decomposed.observed.plot(ax=plt.gca())\n",
    "decomposed.trend.plot()\n",
    "plt.title('Data with Trend')\n",
    "plt.subplot(312)\n",
    "decomposed.seasonal.plot(ax=plt.gca())\n",
    "plt.title('Seasonality')\n",
    "plt.subplot(313)\n",
    "decomposed.resid.plot(ax=plt.gca())\n",
    "plt.title('Residuals')\n",
    "\n",
    "plt.tight_layout()"
   ]
  },
  {
   "cell_type": "markdown",
   "metadata": {},
   "source": [
    "**Mean**: It appears relatively stable, indicating that the average number of orders doesn’t fluctuate too much despite variations in total orders.  \n",
    "\n",
    "**Sum**: This line represents the total number of orders over time. There are visible spikes, which could indicate peak ordering times or specific events causing increased activity.  \n",
    "\n",
    "**Standard Deviation**: This line shows the variability in the number of orders. Higher values indicate more inconsistency in the number of orders.  \n",
    "\n",
    "From these results, you can infer that while there are fluctuations and variability in the total number of orders, the average number of orders remains relatively stable. The peaks in the total orders might correspond to specific events or promotions that cause increased activity."
   ]
  },
  {
   "cell_type": "markdown",
   "metadata": {},
   "source": [
    "**Month of March**"
   ]
  },
  {
   "cell_type": "code",
   "execution_count": 11,
   "metadata": {},
   "outputs": [],
   "source": [
    "march = df_resampled['2018-03-01' : '2018-03-31']"
   ]
  },
  {
   "cell_type": "code",
   "execution_count": 12,
   "metadata": {},
   "outputs": [
    {
     "data": {
      "text/html": [
       "<div>\n",
       "<style scoped>\n",
       "    .dataframe tbody tr th:only-of-type {\n",
       "        vertical-align: middle;\n",
       "    }\n",
       "\n",
       "    .dataframe tbody tr th {\n",
       "        vertical-align: top;\n",
       "    }\n",
       "\n",
       "    .dataframe thead th {\n",
       "        text-align: right;\n",
       "    }\n",
       "</style>\n",
       "<table border=\"1\" class=\"dataframe\">\n",
       "  <thead>\n",
       "    <tr style=\"text-align: right;\">\n",
       "      <th></th>\n",
       "      <th>num_orders</th>\n",
       "    </tr>\n",
       "  </thead>\n",
       "  <tbody>\n",
       "    <tr>\n",
       "      <th>count</th>\n",
       "      <td>744.000000</td>\n",
       "    </tr>\n",
       "    <tr>\n",
       "      <th>mean</th>\n",
       "      <td>57.483871</td>\n",
       "    </tr>\n",
       "    <tr>\n",
       "      <th>std</th>\n",
       "      <td>29.562439</td>\n",
       "    </tr>\n",
       "    <tr>\n",
       "      <th>min</th>\n",
       "      <td>1.000000</td>\n",
       "    </tr>\n",
       "    <tr>\n",
       "      <th>25%</th>\n",
       "      <td>39.000000</td>\n",
       "    </tr>\n",
       "    <tr>\n",
       "      <th>50%</th>\n",
       "      <td>55.000000</td>\n",
       "    </tr>\n",
       "    <tr>\n",
       "      <th>75%</th>\n",
       "      <td>75.000000</td>\n",
       "    </tr>\n",
       "    <tr>\n",
       "      <th>max</th>\n",
       "      <td>182.000000</td>\n",
       "    </tr>\n",
       "  </tbody>\n",
       "</table>\n",
       "</div>"
      ],
      "text/plain": [
       "       num_orders\n",
       "count  744.000000\n",
       "mean    57.483871\n",
       "std     29.562439\n",
       "min      1.000000\n",
       "25%     39.000000\n",
       "50%     55.000000\n",
       "75%     75.000000\n",
       "max    182.000000"
      ]
     },
     "execution_count": 12,
     "metadata": {},
     "output_type": "execute_result"
    }
   ],
   "source": [
    "march.describe()"
   ]
  },
  {
   "cell_type": "code",
   "execution_count": 13,
   "metadata": {},
   "outputs": [],
   "source": [
    "decomposed = seasonal_decompose(march)"
   ]
  },
  {
   "cell_type": "code",
   "execution_count": 14,
   "metadata": {},
   "outputs": [
    {
     "data": {
      "image/png": "[encoded data removed]",
      "text/plain": [
       "<Figure size 1200x1200 with 3 Axes>"
      ]
     },
     "metadata": {},
     "output_type": "display_data"
    }
   ],
   "source": [
    "# seasonal decomposition to view data, trend and seasonality\n",
    "plt.figure(figsize=(12, 12))\n",
    "\n",
    "plt.subplot(311)\n",
    "decomposed.observed.plot(ax=plt.gca())\n",
    "decomposed.trend.plot()\n",
    "plt.title('Data with Trend')\n",
    "plt.subplot(312)\n",
    "decomposed.seasonal.plot(ax=plt.gca())\n",
    "plt.title('Seasonality')\n",
    "plt.subplot(313)\n",
    "decomposed.resid.plot(ax=plt.gca())\n",
    "plt.title('Residuals')\n",
    "\n",
    "plt.tight_layout()"
   ]
  },
  {
   "cell_type": "markdown",
   "metadata": {},
   "source": [
    "**High Variability in Orders**: The ‘num_orders’ line fluctuates significantly, indicating that the number of orders varies greatly from day to day.  \n",
    "\n",
    "**Stable Average**: The ‘mean’ line is smoother and runs through the center of the ‘num_orders’ fluctuations, suggesting that the average number of orders remains relatively stable over the month.  \n",
    "\n",
    "**Consistent Spread**: The ‘std’ (standard deviation) line is relatively stable, indicating that the variability in the number of orders is consistent around the mean.  \n",
    "\n",
    "This suggest that while there is considerable day-to-day variation in the number of orders, the overall average and the spread of the data remain fairly consistent."
   ]
  },
  {
   "cell_type": "markdown",
   "metadata": {},
   "source": [
    "**Conclusion**"
   ]
  },
  {
   "cell_type": "markdown",
   "metadata": {},
   "source": [
    "The analysis of the taxi data reveals that while there is significant day-to-day variability in the number of orders, the overall average number of orders remains stable throughout the month. Additionally, the consistent spread of the data, as indicated by the stable standard deviation, suggests that the variability around the mean is uniform. These findings imply that despite the fluctuations in daily orders, the general trend and dispersion of the data are steady, providing a reliable basis for further analysis and modeling."
   ]
  },
  {
   "cell_type": "markdown",
   "metadata": {},
   "source": [
    "## Training"
   ]
  },
  {
   "cell_type": "code",
   "execution_count": 15,
   "metadata": {},
   "outputs": [],
   "source": [
    "def make_features(data, max_lag, rolling_mean_size):\n",
    "\n",
    "    \n",
    "    data['month'] = data.index.month\n",
    "    data['day'] = data.index.day\n",
    "    data['dayofweek'] = data.index.dayofweek\n",
    "    data['hour'] = data.index.hour\n",
    "    \n",
    "    for lag in range(1, max_lag + 1):\n",
    "        data['lag_{}'.format(lag)] = data['num_orders'].shift(lag)\n",
    "\n",
    "    data['rolling_mean'] = data['num_orders'].shift().rolling(rolling_mean_size).mean()"
   ]
  },
  {
   "cell_type": "code",
   "execution_count": 16,
   "metadata": {},
   "outputs": [],
   "source": [
    "make_features(df_resampled,3,3)"
   ]
  },
  {
   "cell_type": "code",
   "execution_count": 17,
   "metadata": {},
   "outputs": [
    {
     "data": {
      "text/plain": [
       "num_orders      0\n",
       "month           0\n",
       "day             0\n",
       "dayofweek       0\n",
       "hour            0\n",
       "lag_1           1\n",
       "lag_2           2\n",
       "lag_3           3\n",
       "rolling_mean    3\n",
       "dtype: int64"
      ]
     },
     "execution_count": 17,
     "metadata": {},
     "output_type": "execute_result"
    }
   ],
   "source": [
    "df_resampled.isna().sum()"
   ]
  },
  {
   "cell_type": "code",
   "execution_count": 18,
   "metadata": {},
   "outputs": [],
   "source": [
    "df_resampled = df_resampled.dropna()"
   ]
  },
  {
   "cell_type": "code",
   "execution_count": 19,
   "metadata": {},
   "outputs": [
    {
     "data": {
      "text/plain": [
       "num_orders      0\n",
       "month           0\n",
       "day             0\n",
       "dayofweek       0\n",
       "hour            0\n",
       "lag_1           0\n",
       "lag_2           0\n",
       "lag_3           0\n",
       "rolling_mean    0\n",
       "dtype: int64"
      ]
     },
     "execution_count": 19,
     "metadata": {},
     "output_type": "execute_result"
    }
   ],
   "source": [
    "df_resampled.isin([np.inf, -np.inf]).sum()\n"
   ]
  },
  {
   "cell_type": "code",
   "execution_count": 20,
   "metadata": {},
   "outputs": [],
   "source": [
    "#setting frequency for use in the SARIMA(X) model\n",
    "df_resampled.index = pd.date_range(start=df_resampled.index[0], periods=len(df_resampled),freq='H')"
   ]
  },
  {
   "cell_type": "code",
   "execution_count": 21,
   "metadata": {},
   "outputs": [],
   "source": [
    "features = df_resampled.drop('num_orders',axis=1)\n",
    "target = df_resampled['num_orders']"
   ]
  },
  {
   "cell_type": "code",
   "execution_count": 22,
   "metadata": {},
   "outputs": [
    {
     "name": "stdout",
     "output_type": "stream",
     "text": [
      "Training features shape: (3971, 8)\n",
      "Test features shape: (442, 8)\n",
      "Training target shape: (3971,)\n",
      "Test target shape: (442,)\n"
     ]
    }
   ],
   "source": [
    "#Perform the split once\n",
    "X_train, X_test, y_train, y_test = train_test_split(features, target, test_size=0.10, random_state=12345) \n",
    "\n",
    "print(\"Training features shape:\", X_train.shape)\n",
    "print(\"Test features shape:\", X_test.shape)\n",
    "print(\"Training target shape:\", y_train.shape)\n",
    "print(\"Test target shape:\", y_test.shape)"
   ]
  },
  {
   "cell_type": "markdown",
   "metadata": {},
   "source": [
    "**Sets for ARIMA/SARIMA**"
   ]
  },
  {
   "cell_type": "code",
   "execution_count": 23,
   "metadata": {},
   "outputs": [],
   "source": [
    "train_size = int(len(target) * 0.1)\n",
    "train, test = target[:-train_size], target[-train_size:]"
   ]
  },
  {
   "cell_type": "code",
   "execution_count": 27,
   "metadata": {},
   "outputs": [
    {
     "name": "stdout",
     "output_type": "stream",
     "text": [
      "(3972,)\n",
      "(441,)\n"
     ]
    }
   ],
   "source": [
    "print(train.shape)\n",
    "print(test.shape)"
   ]
  },
  {
   "cell_type": "markdown",
   "metadata": {},
   "source": [
    "**ARIMA**"
   ]
  },
  {
   "cell_type": "code",
   "execution_count": 28,
   "metadata": {
    "scrolled": false
   },
   "outputs": [
    {
     "name": "stderr",
     "output_type": "stream",
     "text": [
      "/opt/conda/envs/python3/lib/python3.9/site-packages/statsmodels/base/model.py:604: ConvergenceWarning: Maximum Likelihood optimization failed to converge. Check mle_retvals\n",
      "  warnings.warn(\"Maximum Likelihood optimization failed to \"\n"
     ]
    },
    {
     "name": "stdout",
     "output_type": "stream",
     "text": [
      "ARIMA order = (1, 1, 5) RMSE: 64.81\n"
     ]
    },
    {
     "name": "stderr",
     "output_type": "stream",
     "text": [
      "/opt/conda/envs/python3/lib/python3.9/site-packages/statsmodels/base/model.py:604: ConvergenceWarning: Maximum Likelihood optimization failed to converge. Check mle_retvals\n",
      "  warnings.warn(\"Maximum Likelihood optimization failed to \"\n"
     ]
    },
    {
     "name": "stdout",
     "output_type": "stream",
     "text": [
      "ARIMA order = (3, 2, 3) RMSE: 68.00\n"
     ]
    },
    {
     "name": "stderr",
     "output_type": "stream",
     "text": [
      "/opt/conda/envs/python3/lib/python3.9/site-packages/statsmodels/base/model.py:604: ConvergenceWarning: Maximum Likelihood optimization failed to converge. Check mle_retvals\n",
      "  warnings.warn(\"Maximum Likelihood optimization failed to \"\n"
     ]
    },
    {
     "name": "stdout",
     "output_type": "stream",
     "text": [
      "ARIMA order = (4, 1, 4) RMSE: 63.49\n",
      "Best ARIMA model: Order=(4, 1, 4)\n",
      "Best RMSE: 63.49\n"
     ]
    }
   ],
   "source": [
    "arima_params=[(1,1,5),(3,2,3),(4,1,4)]\n",
    "best_rmse = float('inf')\n",
    "best_arima_pred = None\n",
    "best_arima_order = None\n",
    "\n",
    "for order in arima_params:\n",
    "    arima_model = ARIMA(train, order=order)\n",
    "    arima_result = arima_model.fit(start_params=[0.1]*sum(order))\n",
    "    arima_pred = arima_result.predict(start=len(train), end=len(train) + len(test) -1, dynamic=False)\n",
    "    \n",
    "\n",
    "    arima_rmse = np.sqrt(mean_squared_error(test,arima_pred))\n",
    "    \n",
    "    print(f\"ARIMA order = {order} RMSE: {arima_rmse:.2f}\")\n",
    "    \n",
    "    if arima_rmse < best_rmse:\n",
    "        best_rmse = arima_rmse\n",
    "        best_arima_pred = arima_pred\n",
    "        best_arima_order = order\n",
    "print(f\"Best ARIMA model: Order={best_arima_order}\")\n",
    "print(f\"Best RMSE: {best_rmse:.2f}\")"
   ]
  },
  {
   "cell_type": "markdown",
   "metadata": {},
   "source": [
    "**SARIMA**"
   ]
  },
  {
   "cell_type": "code",
   "execution_count": 31,
   "metadata": {
    "scrolled": true
   },
   "outputs": [
    {
     "name": "stdout",
     "output_type": "stream",
     "text": [
      "SARIMA order=(1, 0, 0), seasonal_order=(1, 0, 0, 12) RMSE: 150.22\n",
      "SARIMA order=(0, 1, 0), seasonal_order=(0, 1, 0, 12) RMSE: 7284.80\n",
      "Best SARIMA Model: Order=(1, 0, 0), Seasonal_Order=(1, 0, 0, 12)\n",
      "Best RMSE: 150.22\n"
     ]
    }
   ],
   "source": [
    "sarima_params = [\n",
    "    {'order': (1,0,0), 'seasonal_order': (1,0,0,12)},\n",
    "    {'order': (0,1,0), 'seasonal_order': (0,1,0,12)}\n",
    "]\n",
    "\n",
    "best_rmse = float('inf')\n",
    "best_sarima_pred = None\n",
    "best_sarima_order = None\n",
    "\n",
    "for params in sarima_params:\n",
    "    order = params['order']\n",
    "    seasonal_order = params['seasonal_order']\n",
    "    sarima_model = SARIMAX(train, order=order, seasonal_order=seasonal_order)\n",
    "    sarima_result = sarima_model.fit(disp=False)\n",
    "    \n",
    "    sarima_pred = sarima_result.predict(start=len(train), end=len(train) + len(test) - 1, dynamic=False)\n",
    "    \n",
    "    sarima_rmse = np.sqrt(mean_squared_error(test, sarima_pred))\n",
    "    \n",
    "    print(f\"SARIMA order={order}, seasonal_order={seasonal_order} RMSE: {sarima_rmse:.2f}\")\n",
    "    \n",
    "    if sarima_rmse < best_rmse:\n",
    "        best_rmse = sarima_rmse\n",
    "        best_sarima_pred = sarima_pred\n",
    "        best_sarima_order = order\n",
    "        best_seasonal_order = seasonal_order\n",
    "        \n",
    "print(f\"Best SARIMA Model: Order={best_sarima_order}, Seasonal_Order={best_seasonal_order}\")\n",
    "print(f\"Best RMSE: {best_rmse:.2f}\")"
   ]
  },
  {
   "cell_type": "code",
   "execution_count": 38,
   "metadata": {},
   "outputs": [
    {
     "data": {
      "text/plain": [
       "59.94451154771563"
      ]
     },
     "execution_count": 38,
     "metadata": {},
     "output_type": "execute_result"
    }
   ],
   "source": [
    "# Reviewer's code 5 \n",
    "\n",
    "best_params = {'maxiter': 60, 'method': 'lbfgs', 'order': (5, 1, 0), \n",
    " 'out_of_sample_size': 0, 'scoring': 'mse', 'seasonal_order': (1, 0, 0, 24), 'start_params': None, 'trend': None}\n",
    "\n",
    "order = (best_params['order'][0], best_params['order'][1], best_params['order'][2])\n",
    "seasonal_order = (best_params['seasonal_order'][0], best_params['seasonal_order'][1], best_params['seasonal_order'][2], best_params['seasonal_order'][3])\n",
    "\n",
    "p, d, q = best_params['order']\n",
    "P, D, Q, m = best_params['seasonal_order']\n",
    "\n",
    "sarimax_model = SARIMAX(train.values, order=order, seasonal_order=seasonal_order)\n",
    "sarimax_fit = sarimax_model.fit(disp=False)\n",
    "\n",
    "sarima_pred = sarimax_fit.predict(start=len(train), end=len(train) + len(test) - 1, dynamic=False)\n",
    "    \n",
    "np.sqrt(mean_squared_error(test, sarima_pred))"
   ]
  },
  {
   "cell_type": "code",
   "execution_count": 31,
   "metadata": {},
   "outputs": [
    {
     "name": "stdout",
     "output_type": "stream",
     "text": [
      "RMSE: 29.33331117338487\n"
     ]
    }
   ],
   "source": [
    "lr = LinearRegression()\n",
    "lr.fit(X_train, y_train)\n",
    "y_pred_lr = lr.predict(X_test)\n",
    "rmse_lr = np.sqrt(mean_squared_error(y_test, y_pred_lr))\n",
    "\n",
    "print(f\"RMSE: {rmse_lr}\")"
   ]
  },
  {
   "cell_type": "code",
   "execution_count": 32,
   "metadata": {},
   "outputs": [
    {
     "name": "stdout",
     "output_type": "stream",
     "text": [
      "Best parameters: {'max_depth': 20, 'min_samples_split': 10, 'n_estimators': 200}\n",
      "RMSE after hyperparameter tuning: 22.39946704994128\n"
     ]
    }
   ],
   "source": [
    "# Define the parameter grid\n",
    "param_grid = {\n",
    "    'n_estimators': [50, 100, 200],\n",
    "    'max_depth': [5, 10, 20],\n",
    "    'min_samples_split': [2, 5, 10]\n",
    "}\n",
    "\n",
    "# Initialize TimeSeriesSplit\n",
    "tscv = TimeSeriesSplit(n_splits=5)\n",
    "\n",
    "# Initialize the RandomForestRegressor\n",
    "rf = RandomForestRegressor(random_state=12345)\n",
    "\n",
    "# Initialize GridSearchCV with TimeSeriesSplit\n",
    "grid_search = GridSearchCV(estimator=rf, param_grid=param_grid, cv=tscv, scoring='neg_mean_squared_error')\n",
    "\n",
    "# Fit the model\n",
    "grid_search.fit(X_train, y_train)\n",
    "\n",
    "# Get the best parameters\n",
    "best_params = grid_search.best_params_\n",
    "print(f\"Best parameters: {best_params}\")\n",
    "\n",
    "# Train the model with the best parameters\n",
    "best_rf = RandomForestRegressor(**best_params, random_state=12345)\n",
    "best_rf.fit(X_train, y_train)\n",
    "\n",
    "# Make predictions\n",
    "y_pred_rf = best_rf.predict(X_test)\n",
    "\n",
    "# Calculate RMSE\n",
    "rmse_rf = np.sqrt(mean_squared_error(y_test, y_pred_rf))\n",
    "print(f\"RMSE after hyperparameter tuning: {rmse_rf}\")"
   ]
  },
  {
   "cell_type": "markdown",
   "metadata": {},
   "source": [
    "**Model Comparison**"
   ]
  },
  {
   "cell_type": "code",
   "execution_count": 33,
   "metadata": {},
   "outputs": [],
   "source": [
    "model_comparison = {\n",
    "    'Model': ['ARIMA', 'SARIMA', 'Linear Regression', 'Random Forest'],\n",
    "    'Best Order': [best_arima_order, best_sarima_order, None, best_params],\n",
    "    'Best Seasonal Order': [None, best_seasonal_order, None, None],\n",
    "    'RMSE': [best_rmse, best_rmse, rmse_lr, rmse_rf]\n",
    "}\n",
    "\n",
    "# Convert the dictionary to a DataFrame\n",
    "comparison_df = pd.DataFrame(model_comparison)"
   ]
  },
  {
   "cell_type": "code",
   "execution_count": 37,
   "metadata": {},
   "outputs": [
    {
     "data": {
      "text/html": [
       "<div>\n",
       "<style scoped>\n",
       "    .dataframe tbody tr th:only-of-type {\n",
       "        vertical-align: middle;\n",
       "    }\n",
       "\n",
       "    .dataframe tbody tr th {\n",
       "        vertical-align: top;\n",
       "    }\n",
       "\n",
       "    .dataframe thead th {\n",
       "        text-align: right;\n",
       "    }\n",
       "</style>\n",
       "<table border=\"1\" class=\"dataframe\">\n",
       "  <thead>\n",
       "    <tr style=\"text-align: right;\">\n",
       "      <th></th>\n",
       "      <th>Model</th>\n",
       "      <th>Best Order</th>\n",
       "      <th>Best Seasonal Order</th>\n",
       "      <th>RMSE</th>\n",
       "    </tr>\n",
       "  </thead>\n",
       "  <tbody>\n",
       "    <tr>\n",
       "      <th>0</th>\n",
       "      <td>ARIMA</td>\n",
       "      <td>(4, 1, 4)</td>\n",
       "      <td>None</td>\n",
       "      <td>150.215925</td>\n",
       "    </tr>\n",
       "    <tr>\n",
       "      <th>1</th>\n",
       "      <td>SARIMA</td>\n",
       "      <td>(1, 0, 0)</td>\n",
       "      <td>(1, 0, 0, 12)</td>\n",
       "      <td>150.215925</td>\n",
       "    </tr>\n",
       "    <tr>\n",
       "      <th>2</th>\n",
       "      <td>Linear Regression</td>\n",
       "      <td>None</td>\n",
       "      <td>None</td>\n",
       "      <td>29.333311</td>\n",
       "    </tr>\n",
       "    <tr>\n",
       "      <th>3</th>\n",
       "      <td>Random Forest</td>\n",
       "      <td>{'max_depth': 20, 'min_samples_split': 10, 'n_...</td>\n",
       "      <td>None</td>\n",
       "      <td>22.399467</td>\n",
       "    </tr>\n",
       "  </tbody>\n",
       "</table>\n",
       "</div>"
      ],
      "text/plain": [
       "               Model                                         Best Order  \\\n",
       "0              ARIMA                                          (4, 1, 4)   \n",
       "1             SARIMA                                          (1, 0, 0)   \n",
       "2  Linear Regression                                               None   \n",
       "3      Random Forest  {'max_depth': 20, 'min_samples_split': 10, 'n_...   \n",
       "\n",
       "  Best Seasonal Order        RMSE  \n",
       "0                None  150.215925  \n",
       "1       (1, 0, 0, 12)  150.215925  \n",
       "2                None   29.333311  \n",
       "3                None   22.399467  "
      ]
     },
     "execution_count": 37,
     "metadata": {},
     "output_type": "execute_result"
    }
   ],
   "source": [
    "comparison_df"
   ]
  },
  {
   "cell_type": "markdown",
   "metadata": {},
   "source": [
    "# Overall Conclusion"
   ]
  },
  {
   "cell_type": "markdown",
   "metadata": {},
   "source": [
    "**Stable Average Orders**: Despite fluctuations in the total number of orders, the average number of orders remains relatively stable. This indicates that the business experiences consistent demand over time.  \n",
    "**High Variability in Daily Orders**: The number of orders varies significantly from day to day, as evidenced by the fluctuating ‘num_orders’ line. This suggests that there are specific days or events that cause spikes in orders, possibly due to promotions or special events.  \n",
    "**Consistent Variability**: The standard deviation line remains relatively stable, indicating that the variability in the number of orders is consistent around the mean. This consistency in variability suggests that while the total number of orders fluctuates, the degree of fluctuation is predictable.  \n",
    "**Model Performance**:  \n",
    "\n",
    "ARIMA Models: The best ARIMA model is with order (4, 1, 4), achieving an RMSE of 63.49.\n",
    "\n",
    "SARIMA Models: The best SARIMA model is with order (1, 0, 0) and seasonal order (1, 0, 0, 12), achieving an RMSE of 150.22.  \n",
    "\n",
    "Hyperparameter Tuning: After hyperparameter tuning, the best parameters for the model were found to be {‘max_depth’: 20, ‘min_samples_split’: 10, ‘n_estimators’: 200}. The RMSE of the model after tuning is 22.399, indicating the model’s accuracy in predicting the number of orders.  \n",
    "\n",
    "Overall, the business can expect a stable average number of orders with predictable variability, despite occasional spikes due to specific events. The tuned model provides a reliable tool for forecasting future orders, helping in better planning and resource allocation.  "
   ]
  }
 ],
 "metadata": {
  "ExecuteTimeLog": [
   {
    "duration": 3729,
    "start_time": "2024-09-07T15:38:59.696Z"
   },
   {
    "duration": 3,
    "start_time": "2024-09-07T15:39:11.331Z"
   },
   {
    "duration": 4,
    "start_time": "2024-09-07T15:39:21.071Z"
   },
   {
    "duration": 42,
    "start_time": "2024-09-07T15:39:37.367Z"
   },
   {
    "duration": 9,
    "start_time": "2024-09-07T15:39:44.561Z"
   },
   {
    "duration": 17,
    "start_time": "2024-09-07T15:40:51.737Z"
   },
   {
    "duration": 6,
    "start_time": "2024-09-07T15:40:55.091Z"
   },
   {
    "duration": 3,
    "start_time": "2024-09-07T15:46:23.636Z"
   },
   {
    "duration": 19,
    "start_time": "2024-09-07T15:46:29.311Z"
   },
   {
    "duration": 6,
    "start_time": "2024-09-07T15:46:31.915Z"
   },
   {
    "duration": 12,
    "start_time": "2024-09-07T15:46:36.946Z"
   },
   {
    "duration": 19,
    "start_time": "2024-09-07T15:47:18.816Z"
   },
   {
    "duration": 6,
    "start_time": "2024-09-07T15:47:19.355Z"
   },
   {
    "duration": 6,
    "start_time": "2024-09-07T15:47:21.811Z"
   },
   {
    "duration": 10,
    "start_time": "2024-09-07T15:47:38.503Z"
   },
   {
    "duration": 422,
    "start_time": "2024-09-07T15:51:43.400Z"
   },
   {
    "duration": 16,
    "start_time": "2024-09-07T15:52:06.966Z"
   },
   {
    "duration": 7,
    "start_time": "2024-09-07T15:52:09.421Z"
   },
   {
    "duration": 6,
    "start_time": "2024-09-07T15:52:11.683Z"
   },
   {
    "duration": 262,
    "start_time": "2024-09-07T15:52:30.266Z"
   },
   {
    "duration": 29,
    "start_time": "2024-09-07T15:52:41.186Z"
   },
   {
    "duration": 19,
    "start_time": "2024-09-07T15:52:52.591Z"
   },
   {
    "duration": 6,
    "start_time": "2024-09-07T15:52:56.084Z"
   },
   {
    "duration": 6,
    "start_time": "2024-09-07T15:53:01.850Z"
   },
   {
    "duration": 10,
    "start_time": "2024-09-07T15:53:09.791Z"
   },
   {
    "duration": 6,
    "start_time": "2024-09-07T15:53:34.698Z"
   },
   {
    "duration": 5,
    "start_time": "2024-09-07T15:53:49.712Z"
   },
   {
    "duration": 5,
    "start_time": "2024-09-07T15:54:00.420Z"
   },
   {
    "duration": 2,
    "start_time": "2024-09-07T15:54:34.926Z"
   },
   {
    "duration": 183,
    "start_time": "2024-09-07T15:55:50.072Z"
   },
   {
    "duration": 264,
    "start_time": "2024-09-07T15:56:19.806Z"
   },
   {
    "duration": 175,
    "start_time": "2024-09-07T15:56:30.860Z"
   },
   {
    "duration": 166,
    "start_time": "2024-09-07T15:56:36.421Z"
   },
   {
    "duration": 160,
    "start_time": "2024-09-07T15:56:41.156Z"
   },
   {
    "duration": 170,
    "start_time": "2024-09-07T15:58:31.849Z"
   },
   {
    "duration": 133,
    "start_time": "2024-09-07T15:58:48.061Z"
   },
   {
    "duration": 2,
    "start_time": "2024-09-07T16:00:18.942Z"
   },
   {
    "duration": 7,
    "start_time": "2024-09-07T16:01:10.916Z"
   },
   {
    "duration": 6,
    "start_time": "2024-09-07T16:01:20.626Z"
   },
   {
    "duration": 17,
    "start_time": "2024-09-07T16:02:31.401Z"
   },
   {
    "duration": 65,
    "start_time": "2024-09-07T16:02:36.562Z"
   },
   {
    "duration": 150,
    "start_time": "2024-09-07T16:02:53.812Z"
   },
   {
    "duration": 54,
    "start_time": "2024-09-07T16:05:27.237Z"
   },
   {
    "duration": 355,
    "start_time": "2024-09-07T16:06:05.791Z"
   },
   {
    "duration": 152,
    "start_time": "2024-09-07T16:06:31.715Z"
   },
   {
    "duration": 15,
    "start_time": "2024-09-07T16:06:47.433Z"
   },
   {
    "duration": 2,
    "start_time": "2024-09-07T16:08:24.321Z"
   },
   {
    "duration": 5,
    "start_time": "2024-09-07T16:08:24.715Z"
   },
   {
    "duration": 14,
    "start_time": "2024-09-07T16:08:25.811Z"
   },
   {
    "duration": 6,
    "start_time": "2024-09-07T16:08:34.272Z"
   },
   {
    "duration": 7,
    "start_time": "2024-09-07T16:11:16.856Z"
   },
   {
    "duration": 7,
    "start_time": "2024-09-07T16:11:24.785Z"
   },
   {
    "duration": 7,
    "start_time": "2024-09-07T16:12:09.651Z"
   },
   {
    "duration": 9,
    "start_time": "2024-09-07T16:12:10.990Z"
   },
   {
    "duration": 25,
    "start_time": "2024-09-07T16:12:38.372Z"
   },
   {
    "duration": 6,
    "start_time": "2024-09-07T16:12:53.775Z"
   },
   {
    "duration": 8,
    "start_time": "2024-09-07T16:12:54.496Z"
   },
   {
    "duration": 23,
    "start_time": "2024-09-07T16:12:56.084Z"
   },
   {
    "duration": 6,
    "start_time": "2024-09-07T16:13:22.292Z"
   },
   {
    "duration": 8,
    "start_time": "2024-09-07T16:13:22.996Z"
   },
   {
    "duration": 7,
    "start_time": "2024-09-07T16:13:25.251Z"
   },
   {
    "duration": 7,
    "start_time": "2024-09-07T16:13:41.561Z"
   },
   {
    "duration": 9,
    "start_time": "2024-09-07T16:13:41.737Z"
   },
   {
    "duration": 4,
    "start_time": "2024-09-07T16:14:16.972Z"
   },
   {
    "duration": 6,
    "start_time": "2024-09-07T16:14:23.626Z"
   },
   {
    "duration": 9,
    "start_time": "2024-09-07T16:14:24.875Z"
   },
   {
    "duration": 7,
    "start_time": "2024-09-07T16:15:56.116Z"
   },
   {
    "duration": 9,
    "start_time": "2024-09-07T16:15:56.606Z"
   },
   {
    "duration": 129,
    "start_time": "2024-09-07T16:16:33.543Z"
   },
   {
    "duration": 44,
    "start_time": "2024-09-07T16:17:38.776Z"
   },
   {
    "duration": 14,
    "start_time": "2024-09-07T16:18:07.175Z"
   },
   {
    "duration": 10,
    "start_time": "2024-09-07T16:18:10.331Z"
   },
   {
    "duration": 158,
    "start_time": "2024-09-07T16:18:42.111Z"
   },
   {
    "duration": 173,
    "start_time": "2024-09-07T16:19:14.011Z"
   },
   {
    "duration": 206,
    "start_time": "2024-09-07T16:20:55.814Z"
   },
   {
    "duration": 204,
    "start_time": "2024-09-07T16:21:07.896Z"
   },
   {
    "duration": 213,
    "start_time": "2024-09-07T16:21:17.981Z"
   },
   {
    "duration": 198,
    "start_time": "2024-09-07T16:22:46.190Z"
   },
   {
    "duration": 200,
    "start_time": "2024-09-07T16:23:06.081Z"
   },
   {
    "duration": 187,
    "start_time": "2024-09-07T16:23:20.034Z"
   },
   {
    "duration": 183,
    "start_time": "2024-09-07T16:23:29.476Z"
   },
   {
    "duration": 211,
    "start_time": "2024-09-07T16:23:32.976Z"
   },
   {
    "duration": 6,
    "start_time": "2024-09-07T16:23:43.875Z"
   },
   {
    "duration": 23,
    "start_time": "2024-09-07T16:23:49.682Z"
   },
   {
    "duration": 2,
    "start_time": "2024-09-07T16:23:49.847Z"
   },
   {
    "duration": 5,
    "start_time": "2024-09-07T16:23:50.210Z"
   },
   {
    "duration": 7,
    "start_time": "2024-09-07T16:23:55.628Z"
   },
   {
    "duration": 9,
    "start_time": "2024-09-07T16:23:55.786Z"
   },
   {
    "duration": 109,
    "start_time": "2024-09-07T16:23:58.216Z"
   },
   {
    "duration": 122,
    "start_time": "2024-09-07T16:24:03.285Z"
   },
   {
    "duration": 203,
    "start_time": "2024-09-07T16:24:11.971Z"
   },
   {
    "duration": 3,
    "start_time": "2024-09-07T16:39:48.782Z"
   },
   {
    "duration": 20,
    "start_time": "2024-09-07T16:46:20.830Z"
   },
   {
    "duration": 16,
    "start_time": "2024-09-07T16:46:41.614Z"
   },
   {
    "duration": 2292,
    "start_time": "2024-09-07T16:48:06.060Z"
   },
   {
    "duration": 517,
    "start_time": "2024-09-07T16:48:14.919Z"
   },
   {
    "duration": 1698,
    "start_time": "2024-09-07T16:48:30.583Z"
   },
   {
    "duration": 16,
    "start_time": "2024-09-07T16:49:30.227Z"
   },
   {
    "duration": 15,
    "start_time": "2024-09-07T16:49:38.133Z"
   },
   {
    "duration": 2366,
    "start_time": "2024-09-07T16:50:12.023Z"
   },
   {
    "duration": 1540,
    "start_time": "2024-09-07T16:50:34.749Z"
   },
   {
    "duration": 2330,
    "start_time": "2024-09-07T16:51:46.747Z"
   },
   {
    "duration": 3,
    "start_time": "2024-09-07T16:52:41.128Z"
   },
   {
    "duration": 24,
    "start_time": "2024-09-07T16:52:47.752Z"
   },
   {
    "duration": 3,
    "start_time": "2024-09-07T16:52:48.097Z"
   },
   {
    "duration": 6,
    "start_time": "2024-09-07T16:52:48.437Z"
   },
   {
    "duration": 9,
    "start_time": "2024-09-07T16:52:49.215Z"
   },
   {
    "duration": 10,
    "start_time": "2024-09-07T16:52:51.421Z"
   },
   {
    "duration": 9,
    "start_time": "2024-09-07T16:52:51.900Z"
   },
   {
    "duration": 126,
    "start_time": "2024-09-07T16:52:52.678Z"
   },
   {
    "duration": 255,
    "start_time": "2024-09-07T16:52:52.872Z"
   },
   {
    "duration": 20,
    "start_time": "2024-09-07T16:54:44.017Z"
   },
   {
    "duration": 3,
    "start_time": "2024-09-07T16:54:52.352Z"
   },
   {
    "duration": 8,
    "start_time": "2024-09-07T17:00:02.812Z"
   },
   {
    "duration": 6,
    "start_time": "2024-09-07T17:00:20.733Z"
   },
   {
    "duration": 3,
    "start_time": "2024-09-07T17:01:34.663Z"
   },
   {
    "duration": 3,
    "start_time": "2024-09-07T17:01:46.892Z"
   },
   {
    "duration": 180856,
    "start_time": "2024-09-07T17:02:24.543Z"
   },
   {
    "duration": 9,
    "start_time": "2024-09-07T17:28:58.162Z"
   },
   {
    "duration": 20,
    "start_time": "2024-09-07T17:43:38.672Z"
   },
   {
    "duration": 3,
    "start_time": "2024-09-07T17:44:19.958Z"
   },
   {
    "duration": 20,
    "start_time": "2024-09-07T17:44:23.432Z"
   },
   {
    "duration": 3,
    "start_time": "2024-09-07T17:44:34.411Z"
   },
   {
    "duration": 452,
    "start_time": "2024-09-07T17:44:38.145Z"
   },
   {
    "duration": 177,
    "start_time": "2024-09-07T17:45:08.158Z"
   },
   {
    "duration": 180,
    "start_time": "2024-09-07T17:48:27.382Z"
   },
   {
    "duration": 56,
    "start_time": "2024-09-07T17:48:57.832Z"
   },
   {
    "duration": 9,
    "start_time": "2024-09-07T17:50:15.464Z"
   },
   {
    "duration": 9,
    "start_time": "2024-09-07T17:50:29.289Z"
   },
   {
    "duration": 54,
    "start_time": "2024-09-07T17:50:40.902Z"
   },
   {
    "duration": 4,
    "start_time": "2024-09-07T17:50:55.287Z"
   },
   {
    "duration": 51,
    "start_time": "2024-09-07T17:50:59.632Z"
   },
   {
    "duration": 19,
    "start_time": "2024-09-07T17:54:46.832Z"
   },
   {
    "duration": 3,
    "start_time": "2024-09-07T17:54:47.041Z"
   },
   {
    "duration": 5,
    "start_time": "2024-09-07T17:54:47.452Z"
   },
   {
    "duration": 6,
    "start_time": "2024-09-07T17:54:48.987Z"
   },
   {
    "duration": 15,
    "start_time": "2024-09-07T17:55:29.687Z"
   },
   {
    "duration": 5,
    "start_time": "2024-09-07T17:55:33.362Z"
   },
   {
    "duration": 145509,
    "start_time": "2024-09-07T17:55:38.699Z"
   },
   {
    "duration": 0,
    "start_time": "2024-09-07T18:34:40.088Z"
   },
   {
    "duration": 147993,
    "start_time": "2024-09-07T18:35:55.259Z"
   },
   {
    "duration": 148977,
    "start_time": "2024-09-07T18:40:37.023Z"
   },
   {
    "duration": 1286,
    "start_time": "2024-09-07T19:48:42.802Z"
   },
   {
    "duration": 623,
    "start_time": "2024-09-07T19:49:00.538Z"
   },
   {
    "duration": 40,
    "start_time": "2024-09-07T19:51:42.543Z"
   },
   {
    "duration": 28,
    "start_time": "2024-09-07T19:52:54.517Z"
   },
   {
    "duration": 31,
    "start_time": "2024-09-07T19:53:07.138Z"
   },
   {
    "duration": 147452,
    "start_time": "2024-09-07T19:55:37.283Z"
   },
   {
    "duration": 23,
    "start_time": "2024-09-07T20:06:56.417Z"
   },
   {
    "duration": 4,
    "start_time": "2024-09-07T20:18:58.317Z"
   },
   {
    "duration": 4,
    "start_time": "2024-09-07T20:19:03.372Z"
   },
   {
    "duration": 21,
    "start_time": "2024-09-07T20:20:12.282Z"
   },
   {
    "duration": 4,
    "start_time": "2024-09-07T20:20:19.632Z"
   },
   {
    "duration": 23,
    "start_time": "2024-09-07T20:26:52.537Z"
   },
   {
    "duration": 1615,
    "start_time": "2024-09-07T20:27:31.497Z"
   },
   {
    "duration": 3,
    "start_time": "2024-09-07T20:28:18.617Z"
   },
   {
    "duration": 1656,
    "start_time": "2024-09-07T20:28:23.532Z"
   },
   {
    "duration": 1686,
    "start_time": "2024-09-07T20:30:36.822Z"
   },
   {
    "duration": 1592,
    "start_time": "2024-09-07T20:31:01.058Z"
   },
   {
    "duration": 1620,
    "start_time": "2024-09-07T20:33:43.873Z"
   },
   {
    "duration": 2271,
    "start_time": "2024-09-07T20:35:05.992Z"
   },
   {
    "duration": 863,
    "start_time": "2024-09-07T20:38:01.167Z"
   },
   {
    "duration": 844,
    "start_time": "2024-09-07T20:38:06.794Z"
   },
   {
    "duration": 3969,
    "start_time": "2024-09-08T12:04:34.767Z"
   },
   {
    "duration": 831,
    "start_time": "2024-09-08T12:04:41.560Z"
   },
   {
    "duration": 0,
    "start_time": "2024-09-08T12:04:42.393Z"
   },
   {
    "duration": 2101,
    "start_time": "2024-09-08T12:05:01.830Z"
   },
   {
    "duration": 859,
    "start_time": "2024-09-08T12:05:03.933Z"
   },
   {
    "duration": 62,
    "start_time": "2024-09-08T12:06:23.988Z"
   },
   {
    "duration": 61,
    "start_time": "2024-09-08T12:06:29.457Z"
   },
   {
    "duration": 66,
    "start_time": "2024-09-08T12:06:48.752Z"
   },
   {
    "duration": 18,
    "start_time": "2024-09-08T12:10:55.597Z"
   },
   {
    "duration": 74,
    "start_time": "2024-09-08T12:11:27.217Z"
   },
   {
    "duration": 3,
    "start_time": "2024-09-08T12:11:48.285Z"
   },
   {
    "duration": 4,
    "start_time": "2024-09-08T12:12:24.158Z"
   },
   {
    "duration": 3,
    "start_time": "2024-09-08T12:27:19.162Z"
   },
   {
    "duration": 62,
    "start_time": "2024-09-08T12:27:22.172Z"
   },
   {
    "duration": 3,
    "start_time": "2024-09-08T12:43:29.573Z"
   },
   {
    "duration": 62,
    "start_time": "2024-09-08T12:43:32.857Z"
   },
   {
    "duration": 3,
    "start_time": "2024-09-08T12:51:36.642Z"
   },
   {
    "duration": 64,
    "start_time": "2024-09-08T12:51:40.532Z"
   },
   {
    "duration": 21,
    "start_time": "2024-09-08T12:56:33.977Z"
   },
   {
    "duration": 3,
    "start_time": "2024-09-08T12:56:37.537Z"
   },
   {
    "duration": 5,
    "start_time": "2024-09-08T12:56:37.967Z"
   },
   {
    "duration": 8,
    "start_time": "2024-09-08T12:56:41.026Z"
   },
   {
    "duration": 21,
    "start_time": "2024-09-08T12:56:56.457Z"
   },
   {
    "duration": 2,
    "start_time": "2024-09-08T12:56:56.612Z"
   },
   {
    "duration": 9,
    "start_time": "2024-09-08T14:10:22.452Z"
   },
   {
    "duration": 5,
    "start_time": "2024-09-08T14:11:13.537Z"
   },
   {
    "duration": 10,
    "start_time": "2024-09-08T14:11:27.632Z"
   },
   {
    "duration": 9,
    "start_time": "2024-09-08T14:11:53.867Z"
   },
   {
    "duration": 188,
    "start_time": "2024-09-08T14:12:21.332Z"
   },
   {
    "duration": 226,
    "start_time": "2024-09-08T14:13:19.572Z"
   },
   {
    "duration": 205,
    "start_time": "2024-09-08T14:13:27.978Z"
   },
   {
    "duration": 349,
    "start_time": "2024-09-08T14:13:40.312Z"
   },
   {
    "duration": 4,
    "start_time": "2024-09-08T14:25:34.203Z"
   },
   {
    "duration": 121,
    "start_time": "2024-09-08T15:06:55.678Z"
   },
   {
    "duration": 4,
    "start_time": "2024-09-08T15:07:15.883Z"
   },
   {
    "duration": 53,
    "start_time": "2024-09-08T15:07:18.339Z"
   },
   {
    "duration": 53,
    "start_time": "2024-09-08T15:10:09.477Z"
   },
   {
    "duration": 4,
    "start_time": "2024-09-08T15:10:44.274Z"
   },
   {
    "duration": 116242,
    "start_time": "2024-09-08T15:10:46.413Z"
   },
   {
    "duration": 0,
    "start_time": "2024-09-08T15:12:42.657Z"
   },
   {
    "duration": 2155,
    "start_time": "2024-09-08T15:27:25.942Z"
   },
   {
    "duration": 24,
    "start_time": "2024-09-08T15:27:29.546Z"
   },
   {
    "duration": 3,
    "start_time": "2024-09-08T15:27:31.840Z"
   },
   {
    "duration": 5,
    "start_time": "2024-09-08T15:27:32.395Z"
   },
   {
    "duration": 9,
    "start_time": "2024-09-08T15:27:33.457Z"
   },
   {
    "duration": 7,
    "start_time": "2024-09-08T15:27:39.456Z"
   },
   {
    "duration": 10,
    "start_time": "2024-09-08T15:27:40.121Z"
   },
   {
    "duration": 182,
    "start_time": "2024-09-08T15:27:41.292Z"
   },
   {
    "duration": 342,
    "start_time": "2024-09-08T15:27:43.536Z"
   },
   {
    "duration": 7,
    "start_time": "2024-09-08T15:27:46.940Z"
   },
   {
    "duration": 10,
    "start_time": "2024-09-08T15:27:49.386Z"
   },
   {
    "duration": 112,
    "start_time": "2024-09-08T15:27:50.287Z"
   },
   {
    "duration": 202,
    "start_time": "2024-09-08T15:27:53.804Z"
   },
   {
    "duration": 4,
    "start_time": "2024-09-08T15:28:05.531Z"
   },
   {
    "duration": 4,
    "start_time": "2024-09-08T15:28:07.273Z"
   },
   {
    "duration": 159,
    "start_time": "2024-09-08T15:31:50.051Z"
   },
   {
    "duration": 2208,
    "start_time": "2024-09-08T15:32:02.156Z"
   },
   {
    "duration": 34,
    "start_time": "2024-09-08T15:32:05.307Z"
   },
   {
    "duration": 3,
    "start_time": "2024-09-08T15:32:05.852Z"
   },
   {
    "duration": 6,
    "start_time": "2024-09-08T15:32:06.097Z"
   },
   {
    "duration": 8,
    "start_time": "2024-09-08T15:32:06.482Z"
   },
   {
    "duration": 7,
    "start_time": "2024-09-08T15:32:07.851Z"
   },
   {
    "duration": 10,
    "start_time": "2024-09-08T15:32:08.186Z"
   },
   {
    "duration": 306,
    "start_time": "2024-09-08T15:32:08.746Z"
   },
   {
    "duration": 218,
    "start_time": "2024-09-08T15:32:09.055Z"
   },
   {
    "duration": 8,
    "start_time": "2024-09-08T15:32:11.020Z"
   },
   {
    "duration": 9,
    "start_time": "2024-09-08T15:32:11.983Z"
   },
   {
    "duration": 114,
    "start_time": "2024-09-08T15:32:12.593Z"
   },
   {
    "duration": 205,
    "start_time": "2024-09-08T15:32:13.922Z"
   },
   {
    "duration": 5,
    "start_time": "2024-09-08T15:32:17.401Z"
   },
   {
    "duration": 4,
    "start_time": "2024-09-08T15:32:18.666Z"
   },
   {
    "duration": 162,
    "start_time": "2024-09-08T15:37:15.087Z"
   },
   {
    "duration": 2256,
    "start_time": "2024-09-08T15:41:48.491Z"
   },
   {
    "duration": 35,
    "start_time": "2024-09-08T15:41:53.706Z"
   },
   {
    "duration": 3,
    "start_time": "2024-09-08T15:41:54.246Z"
   },
   {
    "duration": 6,
    "start_time": "2024-09-08T15:41:54.437Z"
   },
   {
    "duration": 9,
    "start_time": "2024-09-08T15:41:54.861Z"
   },
   {
    "duration": 7,
    "start_time": "2024-09-08T15:41:56.066Z"
   },
   {
    "duration": 11,
    "start_time": "2024-09-08T15:41:56.452Z"
   },
   {
    "duration": 192,
    "start_time": "2024-09-08T15:41:57.106Z"
   },
   {
    "duration": 328,
    "start_time": "2024-09-08T15:41:57.310Z"
   },
   {
    "duration": 6,
    "start_time": "2024-09-08T15:41:58.251Z"
   },
   {
    "duration": 9,
    "start_time": "2024-09-08T15:41:59.261Z"
   },
   {
    "duration": 109,
    "start_time": "2024-09-08T15:41:59.730Z"
   },
   {
    "duration": 206,
    "start_time": "2024-09-08T15:42:00.620Z"
   },
   {
    "duration": 4,
    "start_time": "2024-09-08T15:42:03.386Z"
   },
   {
    "duration": 4,
    "start_time": "2024-09-08T15:42:03.980Z"
   },
   {
    "duration": 2257,
    "start_time": "2024-09-08T15:56:32.502Z"
   },
   {
    "duration": 27,
    "start_time": "2024-09-08T15:56:34.762Z"
   },
   {
    "duration": 5,
    "start_time": "2024-09-08T15:56:34.790Z"
   },
   {
    "duration": 6,
    "start_time": "2024-09-08T15:57:38.871Z"
   },
   {
    "duration": 8,
    "start_time": "2024-09-08T15:57:39.172Z"
   },
   {
    "duration": 7,
    "start_time": "2024-09-08T15:57:40.517Z"
   },
   {
    "duration": 10,
    "start_time": "2024-09-08T15:57:40.928Z"
   },
   {
    "duration": 184,
    "start_time": "2024-09-08T15:57:41.051Z"
   },
   {
    "duration": 360,
    "start_time": "2024-09-08T15:57:41.562Z"
   },
   {
    "duration": 7,
    "start_time": "2024-09-08T15:57:55.752Z"
   },
   {
    "duration": 10,
    "start_time": "2024-09-08T15:57:59.977Z"
   },
   {
    "duration": 120,
    "start_time": "2024-09-08T15:58:01.314Z"
   },
   {
    "duration": 242,
    "start_time": "2024-09-08T15:58:02.432Z"
   },
   {
    "duration": 6,
    "start_time": "2024-09-08T15:58:07.367Z"
   },
   {
    "duration": 6,
    "start_time": "2024-09-08T15:58:07.942Z"
   },
   {
    "duration": 515,
    "start_time": "2024-09-08T15:58:13.797Z"
   },
   {
    "duration": 4,
    "start_time": "2024-09-08T15:58:34.351Z"
   },
   {
    "duration": 52,
    "start_time": "2024-09-08T15:58:37.280Z"
   },
   {
    "duration": 3,
    "start_time": "2024-09-08T15:58:54.005Z"
   },
   {
    "duration": 2190,
    "start_time": "2024-09-08T16:00:33.836Z"
   },
   {
    "duration": 23,
    "start_time": "2024-09-08T16:00:37.848Z"
   },
   {
    "duration": 2,
    "start_time": "2024-09-08T16:00:38.211Z"
   },
   {
    "duration": 6,
    "start_time": "2024-09-08T16:00:38.591Z"
   },
   {
    "duration": 8,
    "start_time": "2024-09-08T16:00:38.964Z"
   },
   {
    "duration": 7,
    "start_time": "2024-09-08T16:00:40.143Z"
   },
   {
    "duration": 11,
    "start_time": "2024-09-08T16:00:40.516Z"
   },
   {
    "duration": 180,
    "start_time": "2024-09-08T16:00:40.911Z"
   },
   {
    "duration": 345,
    "start_time": "2024-09-08T16:00:41.317Z"
   },
   {
    "duration": 7,
    "start_time": "2024-09-08T16:00:42.671Z"
   },
   {
    "duration": 9,
    "start_time": "2024-09-08T16:00:44.066Z"
   },
   {
    "duration": 114,
    "start_time": "2024-09-08T16:00:44.936Z"
   },
   {
    "duration": 226,
    "start_time": "2024-09-08T16:00:46.231Z"
   },
   {
    "duration": 4,
    "start_time": "2024-09-08T16:00:49.486Z"
   },
   {
    "duration": 5,
    "start_time": "2024-09-08T16:00:49.945Z"
   },
   {
    "duration": 533,
    "start_time": "2024-09-08T16:00:51.526Z"
   },
   {
    "duration": 58,
    "start_time": "2024-09-08T16:01:06.746Z"
   },
   {
    "duration": 57,
    "start_time": "2024-09-08T16:01:26.012Z"
   },
   {
    "duration": 24913,
    "start_time": "2024-09-08T16:01:48.030Z"
   },
   {
    "duration": 4,
    "start_time": "2024-09-08T16:02:21.956Z"
   },
   {
    "duration": 54,
    "start_time": "2024-09-08T16:03:06.031Z"
   },
   {
    "duration": 56,
    "start_time": "2024-09-08T16:03:27.846Z"
   },
   {
    "duration": 54,
    "start_time": "2024-09-08T16:05:19.571Z"
   },
   {
    "duration": 4,
    "start_time": "2024-09-08T16:06:15.976Z"
   },
   {
    "duration": 54,
    "start_time": "2024-09-08T16:06:37.838Z"
   },
   {
    "duration": 1658,
    "start_time": "2024-09-08T16:06:49.336Z"
   },
   {
    "duration": 211726,
    "start_time": "2024-09-08T16:07:27.111Z"
   },
   {
    "duration": 2217,
    "start_time": "2024-09-08T16:11:39.855Z"
   },
   {
    "duration": 24,
    "start_time": "2024-09-08T16:11:42.845Z"
   },
   {
    "duration": 3,
    "start_time": "2024-09-08T16:11:43.381Z"
   },
   {
    "duration": 6,
    "start_time": "2024-09-08T16:11:43.603Z"
   },
   {
    "duration": 8,
    "start_time": "2024-09-08T16:11:43.971Z"
   },
   {
    "duration": 7,
    "start_time": "2024-09-08T16:11:44.991Z"
   },
   {
    "duration": 11,
    "start_time": "2024-09-08T16:11:45.342Z"
   },
   {
    "duration": 185,
    "start_time": "2024-09-08T16:11:45.511Z"
   },
   {
    "duration": 347,
    "start_time": "2024-09-08T16:11:45.911Z"
   },
   {
    "duration": 7,
    "start_time": "2024-09-08T16:11:46.834Z"
   },
   {
    "duration": 10,
    "start_time": "2024-09-08T16:11:47.720Z"
   },
   {
    "duration": 115,
    "start_time": "2024-09-08T16:11:48.221Z"
   },
   {
    "duration": 213,
    "start_time": "2024-09-08T16:11:49.555Z"
   },
   {
    "duration": 4,
    "start_time": "2024-09-08T16:11:52.895Z"
   },
   {
    "duration": 5,
    "start_time": "2024-09-08T16:11:53.061Z"
   },
   {
    "duration": 34660,
    "start_time": "2024-09-08T16:11:57.587Z"
   },
   {
    "duration": 21264,
    "start_time": "2024-09-08T16:12:36.065Z"
   },
   {
    "duration": 1570,
    "start_time": "2024-09-08T16:13:29.451Z"
   },
   {
    "duration": 3624,
    "start_time": "2024-09-08T16:13:43.651Z"
   },
   {
    "duration": 155,
    "start_time": "2024-09-08T16:18:48.212Z"
   },
   {
    "duration": 14,
    "start_time": "2024-09-08T16:19:51.376Z"
   },
   {
    "duration": 2174,
    "start_time": "2024-09-08T16:20:56.028Z"
   },
   {
    "duration": 23,
    "start_time": "2024-09-08T16:21:01.205Z"
   },
   {
    "duration": 3,
    "start_time": "2024-09-08T16:21:07.444Z"
   },
   {
    "duration": 6,
    "start_time": "2024-09-08T16:21:08.133Z"
   },
   {
    "duration": 8,
    "start_time": "2024-09-08T16:21:10.580Z"
   },
   {
    "duration": 10,
    "start_time": "2024-09-08T16:21:42.181Z"
   },
   {
    "duration": 501,
    "start_time": "2024-09-08T16:22:03.335Z"
   },
   {
    "duration": 3,
    "start_time": "2024-09-08T16:24:41.612Z"
   },
   {
    "duration": 2115,
    "start_time": "2024-09-08T16:24:48.735Z"
   },
   {
    "duration": 27,
    "start_time": "2024-09-08T16:24:50.852Z"
   },
   {
    "duration": 2,
    "start_time": "2024-09-08T16:24:51.172Z"
   },
   {
    "duration": 7,
    "start_time": "2024-09-08T16:24:51.378Z"
   },
   {
    "duration": 8,
    "start_time": "2024-09-08T16:24:52.487Z"
   },
   {
    "duration": 7,
    "start_time": "2024-09-08T16:25:39.647Z"
   },
   {
    "duration": 489,
    "start_time": "2024-09-08T16:25:41.327Z"
   },
   {
    "duration": 226,
    "start_time": "2024-09-08T16:25:48.977Z"
   },
   {
    "duration": 4,
    "start_time": "2024-09-08T16:26:23.678Z"
   },
   {
    "duration": 522,
    "start_time": "2024-09-08T16:29:30.687Z"
   },
   {
    "duration": 3,
    "start_time": "2024-09-08T16:30:31.728Z"
   },
   {
    "duration": 161,
    "start_time": "2024-09-08T16:37:54.084Z"
   },
   {
    "duration": 2273,
    "start_time": "2024-09-08T16:38:09.391Z"
   },
   {
    "duration": 700,
    "start_time": "2024-09-08T16:38:13.652Z"
   },
   {
    "duration": 32,
    "start_time": "2024-09-08T16:38:23.576Z"
   },
   {
    "duration": 3,
    "start_time": "2024-09-08T16:38:26.272Z"
   },
   {
    "duration": 6,
    "start_time": "2024-09-08T16:38:26.451Z"
   },
   {
    "duration": 8,
    "start_time": "2024-09-08T16:38:27.032Z"
   },
   {
    "duration": 7,
    "start_time": "2024-09-08T16:38:32.187Z"
   },
   {
    "duration": 391,
    "start_time": "2024-09-08T16:38:32.676Z"
   },
   {
    "duration": 236,
    "start_time": "2024-09-08T16:38:33.070Z"
   },
   {
    "duration": 8,
    "start_time": "2024-09-08T16:38:34.376Z"
   },
   {
    "duration": 11,
    "start_time": "2024-09-08T16:38:36.961Z"
   },
   {
    "duration": 112,
    "start_time": "2024-09-08T16:38:37.543Z"
   },
   {
    "duration": 206,
    "start_time": "2024-09-08T16:38:38.217Z"
   },
   {
    "duration": 4,
    "start_time": "2024-09-08T16:38:45.132Z"
   },
   {
    "duration": 8059,
    "start_time": "2024-09-08T16:39:18.111Z"
   },
   {
    "duration": 4,
    "start_time": "2024-09-08T16:40:57.116Z"
   },
   {
    "duration": 8148,
    "start_time": "2024-09-08T16:41:15.052Z"
   },
   {
    "duration": 4,
    "start_time": "2024-09-08T16:41:52.150Z"
   },
   {
    "duration": 18086,
    "start_time": "2024-09-08T16:41:53.820Z"
   },
   {
    "duration": 0,
    "start_time": "2024-09-08T16:42:11.908Z"
   },
   {
    "duration": 2169,
    "start_time": "2024-09-08T16:56:37.192Z"
   },
   {
    "duration": 24,
    "start_time": "2024-09-08T16:56:43.252Z"
   },
   {
    "duration": 3,
    "start_time": "2024-09-08T16:56:45.092Z"
   },
   {
    "duration": 6,
    "start_time": "2024-09-08T16:56:46.497Z"
   },
   {
    "duration": 8,
    "start_time": "2024-09-08T16:56:47.637Z"
   },
   {
    "duration": 532,
    "start_time": "2024-09-08T16:57:09.110Z"
   },
   {
    "duration": 2206,
    "start_time": "2024-09-08T16:59:25.172Z"
   },
   {
    "duration": 23,
    "start_time": "2024-09-08T16:59:28.168Z"
   },
   {
    "duration": 2,
    "start_time": "2024-09-08T16:59:29.303Z"
   },
   {
    "duration": 6,
    "start_time": "2024-09-08T16:59:29.808Z"
   },
   {
    "duration": 8,
    "start_time": "2024-09-08T16:59:30.848Z"
   },
   {
    "duration": 7,
    "start_time": "2024-09-08T16:59:42.552Z"
   },
   {
    "duration": 194,
    "start_time": "2024-09-08T16:59:42.782Z"
   },
   {
    "duration": 319,
    "start_time": "2024-09-08T17:00:05.512Z"
   },
   {
    "duration": 7,
    "start_time": "2024-09-08T17:00:26.927Z"
   },
   {
    "duration": 9,
    "start_time": "2024-09-08T17:00:28.346Z"
   },
   {
    "duration": 117,
    "start_time": "2024-09-08T17:00:36.763Z"
   },
   {
    "duration": 4,
    "start_time": "2024-09-08T17:03:53.573Z"
   },
   {
    "duration": 522,
    "start_time": "2024-09-08T17:06:20.652Z"
   },
   {
    "duration": 56,
    "start_time": "2024-09-08T17:07:38.583Z"
   },
   {
    "duration": 142,
    "start_time": "2024-09-08T17:10:07.602Z"
   },
   {
    "duration": 6,
    "start_time": "2024-09-08T17:11:07.704Z"
   },
   {
    "duration": 11,
    "start_time": "2024-09-08T17:12:33.703Z"
   },
   {
    "duration": 5,
    "start_time": "2024-09-08T17:12:43.297Z"
   },
   {
    "duration": 6,
    "start_time": "2024-09-08T17:13:00.251Z"
   },
   {
    "duration": 88,
    "start_time": "2024-09-08T17:13:11.715Z"
   },
   {
    "duration": 223,
    "start_time": "2024-09-08T17:18:12.712Z"
   },
   {
    "duration": 2253,
    "start_time": "2024-09-08T17:19:26.082Z"
   },
   {
    "duration": 23,
    "start_time": "2024-09-08T17:19:30.042Z"
   },
   {
    "duration": 2,
    "start_time": "2024-09-08T17:19:30.743Z"
   },
   {
    "duration": 6,
    "start_time": "2024-09-08T17:19:31.133Z"
   },
   {
    "duration": 8,
    "start_time": "2024-09-08T17:19:34.132Z"
   },
   {
    "duration": 7,
    "start_time": "2024-09-08T17:19:37.386Z"
   },
   {
    "duration": 8,
    "start_time": "2024-09-08T17:19:38.911Z"
   },
   {
    "duration": 5,
    "start_time": "2024-09-08T17:19:40.392Z"
   },
   {
    "duration": 6,
    "start_time": "2024-09-08T17:20:11.225Z"
   },
   {
    "duration": 6,
    "start_time": "2024-09-08T17:20:22.997Z"
   },
   {
    "duration": 6,
    "start_time": "2024-09-08T17:20:51.220Z"
   },
   {
    "duration": 12,
    "start_time": "2024-09-08T17:21:07.811Z"
   },
   {
    "duration": 534,
    "start_time": "2024-09-08T17:21:11.756Z"
   },
   {
    "duration": 17,
    "start_time": "2024-09-08T17:21:36.748Z"
   },
   {
    "duration": 21,
    "start_time": "2024-09-08T17:21:47.366Z"
   },
   {
    "duration": 3,
    "start_time": "2024-09-08T17:21:47.812Z"
   },
   {
    "duration": 5,
    "start_time": "2024-09-08T17:21:48.194Z"
   },
   {
    "duration": 6,
    "start_time": "2024-09-08T17:21:49.381Z"
   },
   {
    "duration": 5,
    "start_time": "2024-09-08T17:21:51.831Z"
   },
   {
    "duration": 7,
    "start_time": "2024-09-08T17:21:53.252Z"
   },
   {
    "duration": 6,
    "start_time": "2024-09-08T17:21:55.093Z"
   },
   {
    "duration": 6,
    "start_time": "2024-09-08T17:21:58.222Z"
   },
   {
    "duration": 5,
    "start_time": "2024-09-08T17:22:04.533Z"
   },
   {
    "duration": 230,
    "start_time": "2024-09-08T17:22:08.267Z"
   },
   {
    "duration": 4,
    "start_time": "2024-09-08T17:22:27.943Z"
   },
   {
    "duration": 157,
    "start_time": "2024-09-08T17:30:58.724Z"
   },
   {
    "duration": 2246,
    "start_time": "2024-09-08T17:31:43.538Z"
   },
   {
    "duration": 27,
    "start_time": "2024-09-08T17:31:47.128Z"
   },
   {
    "duration": 3,
    "start_time": "2024-09-08T17:31:47.541Z"
   },
   {
    "duration": 6,
    "start_time": "2024-09-08T17:31:47.827Z"
   },
   {
    "duration": 8,
    "start_time": "2024-09-08T17:31:48.217Z"
   },
   {
    "duration": 7,
    "start_time": "2024-09-08T17:31:49.432Z"
   },
   {
    "duration": 7,
    "start_time": "2024-09-08T17:31:49.823Z"
   },
   {
    "duration": 5,
    "start_time": "2024-09-08T17:31:50.151Z"
   },
   {
    "duration": 8,
    "start_time": "2024-09-08T17:31:50.588Z"
   },
   {
    "duration": 7,
    "start_time": "2024-09-08T17:31:50.996Z"
   },
   {
    "duration": 349,
    "start_time": "2024-09-08T17:31:51.477Z"
   },
   {
    "duration": 7,
    "start_time": "2024-09-08T17:31:52.582Z"
   },
   {
    "duration": 9,
    "start_time": "2024-09-08T17:31:53.611Z"
   },
   {
    "duration": 121,
    "start_time": "2024-09-08T17:31:54.104Z"
   },
   {
    "duration": 226,
    "start_time": "2024-09-08T17:31:55.252Z"
   },
   {
    "duration": 4,
    "start_time": "2024-09-08T17:31:58.039Z"
   },
   {
    "duration": 76698,
    "start_time": "2024-09-08T17:32:01.313Z"
   },
   {
    "duration": 17,
    "start_time": "2024-09-08T17:33:37.300Z"
   },
   {
    "duration": 5,
    "start_time": "2024-09-08T17:34:53.012Z"
   },
   {
    "duration": 10,
    "start_time": "2024-09-08T17:35:11.211Z"
   },
   {
    "duration": 6,
    "start_time": "2024-09-08T17:35:22.118Z"
   },
   {
    "duration": 5,
    "start_time": "2024-09-08T17:35:22.532Z"
   },
   {
    "duration": 6,
    "start_time": "2024-09-08T17:35:24.552Z"
   },
   {
    "duration": 5,
    "start_time": "2024-09-08T17:35:28.402Z"
   },
   {
    "duration": 222,
    "start_time": "2024-09-08T17:35:30.999Z"
   },
   {
    "duration": 4,
    "start_time": "2024-09-08T17:35:52.683Z"
   },
   {
    "duration": 155,
    "start_time": "2024-09-08T17:43:58.778Z"
   },
   {
    "duration": 2271,
    "start_time": "2024-09-08T17:44:11.386Z"
   },
   {
    "duration": 28,
    "start_time": "2024-09-08T17:44:14.911Z"
   },
   {
    "duration": 3,
    "start_time": "2024-09-08T17:44:15.261Z"
   },
   {
    "duration": 6,
    "start_time": "2024-09-08T17:44:15.792Z"
   },
   {
    "duration": 8,
    "start_time": "2024-09-08T17:44:16.411Z"
   },
   {
    "duration": 7,
    "start_time": "2024-09-08T17:44:17.391Z"
   },
   {
    "duration": 8,
    "start_time": "2024-09-08T17:44:17.731Z"
   },
   {
    "duration": 6,
    "start_time": "2024-09-08T17:44:17.905Z"
   },
   {
    "duration": 7,
    "start_time": "2024-09-08T17:44:18.247Z"
   },
   {
    "duration": 5,
    "start_time": "2024-09-08T17:44:18.377Z"
   },
   {
    "duration": 370,
    "start_time": "2024-09-08T17:44:18.792Z"
   },
   {
    "duration": 6,
    "start_time": "2024-09-08T17:44:19.852Z"
   },
   {
    "duration": 10,
    "start_time": "2024-09-08T17:44:20.597Z"
   },
   {
    "duration": 114,
    "start_time": "2024-09-08T17:44:21.152Z"
   },
   {
    "duration": 214,
    "start_time": "2024-09-08T17:44:21.832Z"
   },
   {
    "duration": 4,
    "start_time": "2024-09-08T17:44:24.487Z"
   },
   {
    "duration": 432,
    "start_time": "2024-09-08T17:44:26.391Z"
   },
   {
    "duration": 4495,
    "start_time": "2024-09-08T17:44:50.638Z"
   },
   {
    "duration": 402,
    "start_time": "2024-09-08T17:45:03.929Z"
   },
   {
    "duration": 4364,
    "start_time": "2024-09-08T17:45:11.753Z"
   },
   {
    "duration": 8,
    "start_time": "2024-09-08T17:45:49.791Z"
   },
   {
    "duration": 7,
    "start_time": "2024-09-08T17:46:19.250Z"
   },
   {
    "duration": 16,
    "start_time": "2024-09-08T17:46:49.473Z"
   },
   {
    "duration": 2123,
    "start_time": "2024-09-08T17:47:08.352Z"
   },
   {
    "duration": 23,
    "start_time": "2024-09-08T17:47:10.477Z"
   },
   {
    "duration": 2,
    "start_time": "2024-09-08T17:47:10.502Z"
   },
   {
    "duration": 6,
    "start_time": "2024-09-08T17:47:10.506Z"
   },
   {
    "duration": 7,
    "start_time": "2024-09-08T17:47:10.514Z"
   },
   {
    "duration": 7,
    "start_time": "2024-09-08T17:47:12.861Z"
   },
   {
    "duration": 7,
    "start_time": "2024-09-08T17:47:14.402Z"
   },
   {
    "duration": 6,
    "start_time": "2024-09-08T17:47:15.067Z"
   },
   {
    "duration": 10,
    "start_time": "2024-09-08T17:47:18.312Z"
   },
   {
    "duration": 7,
    "start_time": "2024-09-08T17:47:29.141Z"
   },
   {
    "duration": 4,
    "start_time": "2024-09-08T17:48:01.438Z"
   },
   {
    "duration": 5,
    "start_time": "2024-09-08T17:48:03.639Z"
   },
   {
    "duration": 6,
    "start_time": "2024-09-08T17:48:07.367Z"
   },
   {
    "duration": 7,
    "start_time": "2024-09-08T17:48:10.338Z"
   },
   {
    "duration": 6,
    "start_time": "2024-09-08T17:48:27.776Z"
   },
   {
    "duration": 6,
    "start_time": "2024-09-08T17:48:28.261Z"
   },
   {
    "duration": 5,
    "start_time": "2024-09-08T17:48:28.752Z"
   },
   {
    "duration": 6,
    "start_time": "2024-09-08T17:48:29.852Z"
   },
   {
    "duration": 7,
    "start_time": "2024-09-08T17:48:30.216Z"
   },
   {
    "duration": 6,
    "start_time": "2024-09-08T17:48:30.762Z"
   },
   {
    "duration": 2112,
    "start_time": "2024-09-08T17:48:40.536Z"
   },
   {
    "duration": 24,
    "start_time": "2024-09-08T17:48:43.072Z"
   },
   {
    "duration": 3,
    "start_time": "2024-09-08T17:48:45.586Z"
   },
   {
    "duration": 8,
    "start_time": "2024-09-08T17:48:46.877Z"
   },
   {
    "duration": 9,
    "start_time": "2024-09-08T17:48:47.907Z"
   },
   {
    "duration": 7,
    "start_time": "2024-09-08T17:49:03.703Z"
   },
   {
    "duration": 5,
    "start_time": "2024-09-08T17:49:30.572Z"
   },
   {
    "duration": 6,
    "start_time": "2024-09-08T17:49:46.002Z"
   },
   {
    "duration": 5,
    "start_time": "2024-09-08T17:49:49.777Z"
   },
   {
    "duration": 10,
    "start_time": "2024-09-08T17:49:58.696Z"
   },
   {
    "duration": 10,
    "start_time": "2024-09-08T17:50:12.957Z"
   },
   {
    "duration": 13,
    "start_time": "2024-09-08T17:50:24.843Z"
   },
   {
    "duration": 8,
    "start_time": "2024-09-08T17:50:32.887Z"
   },
   {
    "duration": 4,
    "start_time": "2024-09-08T17:51:00.722Z"
   },
   {
    "duration": 7833,
    "start_time": "2024-09-08T17:51:07.321Z"
   },
   {
    "duration": 548,
    "start_time": "2024-09-08T17:51:23.811Z"
   },
   {
    "duration": 6,
    "start_time": "2024-09-08T17:51:31.242Z"
   },
   {
    "duration": 76069,
    "start_time": "2024-09-08T17:51:59.177Z"
   },
   {
    "duration": 2177,
    "start_time": "2024-09-08T17:54:50.982Z"
   },
   {
    "duration": 23,
    "start_time": "2024-09-08T17:54:53.161Z"
   },
   {
    "duration": 3,
    "start_time": "2024-09-08T17:54:53.186Z"
   },
   {
    "duration": 7,
    "start_time": "2024-09-08T17:54:53.314Z"
   },
   {
    "duration": 8,
    "start_time": "2024-09-08T17:54:54.456Z"
   },
   {
    "duration": 7,
    "start_time": "2024-09-08T17:55:02.357Z"
   },
   {
    "duration": 5,
    "start_time": "2024-09-08T17:55:38.507Z"
   },
   {
    "duration": 5,
    "start_time": "2024-09-08T17:55:39.658Z"
   },
   {
    "duration": 7,
    "start_time": "2024-09-08T17:55:45.789Z"
   },
   {
    "duration": 7,
    "start_time": "2024-09-08T17:55:46.012Z"
   },
   {
    "duration": 245,
    "start_time": "2024-09-08T17:55:46.717Z"
   },
   {
    "duration": 5,
    "start_time": "2024-09-08T17:56:08.844Z"
   },
   {
    "duration": 11033,
    "start_time": "2024-09-08T17:56:12.454Z"
   },
   {
    "duration": 6,
    "start_time": "2024-09-08T17:56:58.447Z"
   },
   {
    "duration": 6,
    "start_time": "2024-09-08T17:56:59.207Z"
   },
   {
    "duration": 7,
    "start_time": "2024-09-08T17:57:08.490Z"
   },
   {
    "duration": 222,
    "start_time": "2024-09-08T17:57:16.401Z"
   },
   {
    "duration": 6,
    "start_time": "2024-09-08T17:57:24.251Z"
   },
   {
    "duration": 11325,
    "start_time": "2024-09-08T17:57:27.182Z"
   },
   {
    "duration": 700,
    "start_time": "2024-09-08T17:57:54.287Z"
   },
   {
    "duration": 4,
    "start_time": "2024-09-08T17:58:38.031Z"
   },
   {
    "duration": 33379,
    "start_time": "2024-09-08T17:58:40.891Z"
   },
   {
    "duration": 0,
    "start_time": "2024-09-08T17:59:14.272Z"
   },
   {
    "duration": 163,
    "start_time": "2024-09-08T18:12:35.941Z"
   },
   {
    "duration": 13,
    "start_time": "2024-09-08T18:12:36.342Z"
   },
   {
    "duration": 2147,
    "start_time": "2024-09-08T18:21:33.372Z"
   },
   {
    "duration": 30,
    "start_time": "2024-09-08T18:21:36.658Z"
   },
   {
    "duration": 2,
    "start_time": "2024-09-08T18:21:37.312Z"
   },
   {
    "duration": 6,
    "start_time": "2024-09-08T18:21:37.524Z"
   },
   {
    "duration": 9,
    "start_time": "2024-09-08T18:21:37.969Z"
   },
   {
    "duration": 7,
    "start_time": "2024-09-08T18:21:40.973Z"
   },
   {
    "duration": 7,
    "start_time": "2024-09-08T18:21:44.148Z"
   },
   {
    "duration": 6,
    "start_time": "2024-09-08T18:21:45.282Z"
   },
   {
    "duration": 8,
    "start_time": "2024-09-08T18:21:45.872Z"
   },
   {
    "duration": 14,
    "start_time": "2024-09-08T18:22:08.557Z"
   },
   {
    "duration": 6,
    "start_time": "2024-09-08T18:22:22.961Z"
   },
   {
    "duration": 4,
    "start_time": "2024-09-08T18:22:31.853Z"
   },
   {
    "duration": 6,
    "start_time": "2024-09-08T18:22:34.063Z"
   },
   {
    "duration": 7,
    "start_time": "2024-09-08T18:23:50.683Z"
   },
   {
    "duration": 10,
    "start_time": "2024-09-08T18:23:54.008Z"
   },
   {
    "duration": 125,
    "start_time": "2024-09-08T18:23:57.275Z"
   },
   {
    "duration": 535,
    "start_time": "2024-09-08T18:24:42.621Z"
   },
   {
    "duration": 6,
    "start_time": "2024-09-08T18:24:50.693Z"
   },
   {
    "duration": 9,
    "start_time": "2024-09-08T18:24:53.267Z"
   },
   {
    "duration": 114,
    "start_time": "2024-09-08T18:24:56.408Z"
   },
   {
    "duration": 237,
    "start_time": "2024-09-08T18:25:01.222Z"
   },
   {
    "duration": 209,
    "start_time": "2024-09-08T18:25:13.422Z"
   },
   {
    "duration": 4,
    "start_time": "2024-09-08T18:25:28.771Z"
   },
   {
    "duration": 126,
    "start_time": "2024-09-08T18:25:32.657Z"
   },
   {
    "duration": 309995,
    "start_time": "2024-09-08T18:25:46.476Z"
   },
   {
    "duration": 4,
    "start_time": "2024-09-08T18:31:01.536Z"
   },
   {
    "duration": 2261,
    "start_time": "2024-09-08T18:44:00.726Z"
   },
   {
    "duration": 28,
    "start_time": "2024-09-08T18:44:04.452Z"
   },
   {
    "duration": 3,
    "start_time": "2024-09-08T18:44:05.387Z"
   },
   {
    "duration": 6,
    "start_time": "2024-09-08T18:44:05.736Z"
   },
   {
    "duration": 8,
    "start_time": "2024-09-08T18:44:06.519Z"
   },
   {
    "duration": 7,
    "start_time": "2024-09-08T18:44:24.921Z"
   },
   {
    "duration": 9,
    "start_time": "2024-09-08T18:44:26.866Z"
   },
   {
    "duration": 5,
    "start_time": "2024-09-08T18:44:27.896Z"
   },
   {
    "duration": 12,
    "start_time": "2024-09-08T18:45:22.391Z"
   },
   {
    "duration": 5,
    "start_time": "2024-09-08T18:45:22.991Z"
   },
   {
    "duration": 7,
    "start_time": "2024-09-08T18:45:24.176Z"
   },
   {
    "duration": 350,
    "start_time": "2024-09-08T18:45:32.596Z"
   },
   {
    "duration": 7,
    "start_time": "2024-09-08T18:45:33.263Z"
   },
   {
    "duration": 9,
    "start_time": "2024-09-08T18:45:34.217Z"
   },
   {
    "duration": 118,
    "start_time": "2024-09-08T18:45:34.836Z"
   },
   {
    "duration": 233,
    "start_time": "2024-09-08T18:45:36.169Z"
   },
   {
    "duration": 3,
    "start_time": "2024-09-08T18:45:40.977Z"
   },
   {
    "duration": 4,
    "start_time": "2024-09-08T18:49:53.966Z"
   },
   {
    "duration": 534,
    "start_time": "2024-09-08T18:50:15.355Z"
   },
   {
    "duration": 21,
    "start_time": "2024-09-08T18:50:28.259Z"
   },
   {
    "duration": 54,
    "start_time": "2024-09-08T18:53:22.322Z"
   },
   {
    "duration": 267887,
    "start_time": "2024-09-08T18:56:23.791Z"
   },
   {
    "duration": 3,
    "start_time": "2024-09-08T19:02:06.031Z"
   },
   {
    "duration": 2162,
    "start_time": "2024-09-08T19:02:20.911Z"
   },
   {
    "duration": 25,
    "start_time": "2024-09-08T19:02:25.417Z"
   },
   {
    "duration": 21,
    "start_time": "2024-09-08T19:03:29.162Z"
   },
   {
    "duration": 3,
    "start_time": "2024-09-08T19:03:31.070Z"
   },
   {
    "duration": 6,
    "start_time": "2024-09-08T19:03:31.496Z"
   },
   {
    "duration": 8,
    "start_time": "2024-09-08T19:03:48.948Z"
   },
   {
    "duration": 525,
    "start_time": "2024-09-08T19:04:39.411Z"
   },
   {
    "duration": 3,
    "start_time": "2024-09-08T19:04:58.519Z"
   },
   {
    "duration": 21,
    "start_time": "2024-09-08T19:04:58.999Z"
   },
   {
    "duration": 2,
    "start_time": "2024-09-08T19:05:08.342Z"
   },
   {
    "duration": 6,
    "start_time": "2024-09-08T19:05:08.951Z"
   },
   {
    "duration": 6,
    "start_time": "2024-09-08T19:05:09.697Z"
   },
   {
    "duration": 2171,
    "start_time": "2024-09-08T19:09:08.516Z"
   },
   {
    "duration": 22,
    "start_time": "2024-09-08T19:09:11.365Z"
   },
   {
    "duration": 3,
    "start_time": "2024-09-08T19:09:12.012Z"
   },
   {
    "duration": 6,
    "start_time": "2024-09-08T19:09:12.412Z"
   },
   {
    "duration": 8,
    "start_time": "2024-09-08T19:09:13.245Z"
   },
   {
    "duration": 3,
    "start_time": "2024-09-08T19:16:18.077Z"
   },
   {
    "duration": 20,
    "start_time": "2024-09-08T19:16:18.376Z"
   },
   {
    "duration": 2179,
    "start_time": "2024-09-08T19:16:26.451Z"
   },
   {
    "duration": 23,
    "start_time": "2024-09-08T19:16:30.582Z"
   },
   {
    "duration": 3,
    "start_time": "2024-09-08T19:16:31.157Z"
   },
   {
    "duration": 8,
    "start_time": "2024-09-08T19:16:31.508Z"
   },
   {
    "duration": 8,
    "start_time": "2024-09-08T19:16:32.127Z"
   },
   {
    "duration": 9,
    "start_time": "2024-09-08T19:16:34.393Z"
   },
   {
    "duration": 4,
    "start_time": "2024-09-08T19:16:34.782Z"
   },
   {
    "duration": 5,
    "start_time": "2024-09-08T19:16:35.633Z"
   },
   {
    "duration": 5,
    "start_time": "2024-09-08T19:16:42.676Z"
   },
   {
    "duration": 2128,
    "start_time": "2024-09-08T19:17:09.057Z"
   },
   {
    "duration": 23,
    "start_time": "2024-09-08T19:17:12.012Z"
   },
   {
    "duration": 3,
    "start_time": "2024-09-08T19:17:16.751Z"
   },
   {
    "duration": 6,
    "start_time": "2024-09-08T19:17:20.495Z"
   },
   {
    "duration": 7,
    "start_time": "2024-09-08T19:17:23.013Z"
   },
   {
    "duration": 525,
    "start_time": "2024-09-08T19:20:58.122Z"
   },
   {
    "duration": 7,
    "start_time": "2024-09-08T19:21:03.686Z"
   },
   {
    "duration": 5,
    "start_time": "2024-09-08T19:21:05.033Z"
   },
   {
    "duration": 6,
    "start_time": "2024-09-08T19:21:06.114Z"
   },
   {
    "duration": 6,
    "start_time": "2024-09-08T19:22:05.872Z"
   },
   {
    "duration": 10,
    "start_time": "2024-09-08T19:22:10.172Z"
   },
   {
    "duration": 223,
    "start_time": "2024-09-08T19:23:11.711Z"
   },
   {
    "duration": 205,
    "start_time": "2024-09-08T19:23:17.425Z"
   },
   {
    "duration": 186,
    "start_time": "2024-09-08T19:23:32.587Z"
   },
   {
    "duration": 211,
    "start_time": "2024-09-08T19:27:42.634Z"
   },
   {
    "duration": 4,
    "start_time": "2024-09-08T19:28:00.611Z"
   },
   {
    "duration": 15,
    "start_time": "2024-09-08T19:28:03.531Z"
   },
   {
    "duration": 40,
    "start_time": "2024-09-08T19:28:10.306Z"
   },
   {
    "duration": 9,
    "start_time": "2024-09-08T19:28:29.416Z"
   },
   {
    "duration": 5,
    "start_time": "2024-09-08T19:28:51.300Z"
   },
   {
    "duration": 582,
    "start_time": "2024-09-08T19:28:53.791Z"
   },
   {
    "duration": 89,
    "start_time": "2024-09-08T19:29:12.353Z"
   },
   {
    "duration": 82,
    "start_time": "2024-09-08T19:29:42.447Z"
   },
   {
    "duration": 4,
    "start_time": "2024-09-08T19:30:15.950Z"
   },
   {
    "duration": 77,
    "start_time": "2024-09-08T19:30:18.416Z"
   },
   {
    "duration": 4,
    "start_time": "2024-09-08T19:31:07.432Z"
   },
   {
    "duration": 13,
    "start_time": "2024-09-08T19:31:23.916Z"
   },
   {
    "duration": 6,
    "start_time": "2024-09-08T19:40:43.799Z"
   },
   {
    "duration": 6,
    "start_time": "2024-09-08T19:40:44.180Z"
   },
   {
    "duration": 6,
    "start_time": "2024-09-08T19:40:48.770Z"
   },
   {
    "duration": 214,
    "start_time": "2024-09-08T19:40:48.961Z"
   },
   {
    "duration": 4,
    "start_time": "2024-09-08T19:40:51.850Z"
   },
   {
    "duration": 14,
    "start_time": "2024-09-08T19:40:57.476Z"
   },
   {
    "duration": 26,
    "start_time": "2024-09-08T19:41:01.557Z"
   },
   {
    "duration": 11,
    "start_time": "2024-09-08T19:41:19.781Z"
   },
   {
    "duration": 5,
    "start_time": "2024-09-08T19:41:23.403Z"
   },
   {
    "duration": 5,
    "start_time": "2024-09-08T19:41:45.947Z"
   },
   {
    "duration": 75,
    "start_time": "2024-09-08T19:41:47.850Z"
   },
   {
    "duration": 28,
    "start_time": "2024-09-08T19:41:57.926Z"
   },
   {
    "duration": 6,
    "start_time": "2024-09-08T19:48:50.481Z"
   },
   {
    "duration": 104,
    "start_time": "2024-09-08T19:49:35.711Z"
   },
   {
    "duration": 7,
    "start_time": "2024-09-08T19:50:04.751Z"
   },
   {
    "duration": 644,
    "start_time": "2024-09-08T19:50:08.767Z"
   },
   {
    "duration": 6,
    "start_time": "2024-09-08T19:50:49.742Z"
   },
   {
    "duration": 5,
    "start_time": "2024-09-08T19:52:19.841Z"
   },
   {
    "duration": 6,
    "start_time": "2024-09-08T19:52:27.911Z"
   },
   {
    "duration": 6,
    "start_time": "2024-09-08T19:52:47.671Z"
   },
   {
    "duration": 3,
    "start_time": "2024-09-08T19:53:08.513Z"
   },
   {
    "duration": 20,
    "start_time": "2024-09-08T19:53:09.186Z"
   },
   {
    "duration": 3,
    "start_time": "2024-09-08T19:53:10.771Z"
   },
   {
    "duration": 5,
    "start_time": "2024-09-08T19:53:10.956Z"
   },
   {
    "duration": 6,
    "start_time": "2024-09-08T19:53:11.511Z"
   },
   {
    "duration": 5,
    "start_time": "2024-09-08T19:53:15.254Z"
   },
   {
    "duration": 5,
    "start_time": "2024-09-08T19:53:16.281Z"
   },
   {
    "duration": 5,
    "start_time": "2024-09-08T19:53:17.491Z"
   },
   {
    "duration": 216,
    "start_time": "2024-09-08T19:53:49.471Z"
   },
   {
    "duration": 6,
    "start_time": "2024-09-08T19:54:06.088Z"
   },
   {
    "duration": 5,
    "start_time": "2024-09-08T19:54:29.214Z"
   },
   {
    "duration": 2139,
    "start_time": "2024-09-08T19:58:11.976Z"
   },
   {
    "duration": 23,
    "start_time": "2024-09-08T19:58:15.111Z"
   },
   {
    "duration": 2,
    "start_time": "2024-09-08T19:58:16.233Z"
   },
   {
    "duration": 6,
    "start_time": "2024-09-08T19:58:16.740Z"
   },
   {
    "duration": 9,
    "start_time": "2024-09-08T19:58:18.841Z"
   },
   {
    "duration": 572,
    "start_time": "2024-09-08T19:59:26.987Z"
   },
   {
    "duration": 7,
    "start_time": "2024-09-08T19:59:36.991Z"
   },
   {
    "duration": 4,
    "start_time": "2024-09-08T19:59:37.421Z"
   },
   {
    "duration": 5,
    "start_time": "2024-09-08T19:59:38.721Z"
   },
   {
    "duration": 7,
    "start_time": "2024-09-08T19:59:41.487Z"
   },
   {
    "duration": 723,
    "start_time": "2024-09-08T19:59:50.546Z"
   },
   {
    "duration": 5,
    "start_time": "2024-09-08T20:00:29.696Z"
   },
   {
    "duration": 10,
    "start_time": "2024-09-08T20:00:32.371Z"
   },
   {
    "duration": 6,
    "start_time": "2024-09-08T20:00:42.051Z"
   },
   {
    "duration": 7,
    "start_time": "2024-09-08T20:00:55.311Z"
   },
   {
    "duration": 666,
    "start_time": "2024-09-08T20:00:58.234Z"
   },
   {
    "duration": 6,
    "start_time": "2024-09-08T20:02:13.127Z"
   },
   {
    "duration": 22,
    "start_time": "2024-09-08T20:03:10.236Z"
   },
   {
    "duration": 4,
    "start_time": "2024-09-08T20:03:13.451Z"
   },
   {
    "duration": 9,
    "start_time": "2024-09-08T20:03:16.021Z"
   },
   {
    "duration": 9,
    "start_time": "2024-09-08T20:03:23.863Z"
   },
   {
    "duration": 16,
    "start_time": "2024-09-08T20:03:39.351Z"
   },
   {
    "duration": 4,
    "start_time": "2024-09-08T20:04:52.492Z"
   },
   {
    "duration": 5,
    "start_time": "2024-09-08T20:05:47.052Z"
   },
   {
    "duration": 5,
    "start_time": "2024-09-08T20:06:22.636Z"
   },
   {
    "duration": 5,
    "start_time": "2024-09-08T20:07:33.962Z"
   },
   {
    "duration": 155,
    "start_time": "2024-09-08T20:08:22.841Z"
   },
   {
    "duration": 6,
    "start_time": "2024-09-08T20:08:56.471Z"
   },
   {
    "duration": 6,
    "start_time": "2024-09-08T20:09:08.406Z"
   },
   {
    "duration": 5,
    "start_time": "2024-09-08T20:10:50.597Z"
   },
   {
    "duration": 66,
    "start_time": "2024-09-08T20:11:22.750Z"
   },
   {
    "duration": 20,
    "start_time": "2024-09-08T20:13:34.014Z"
   },
   {
    "duration": 4,
    "start_time": "2024-09-08T20:14:04.793Z"
   },
   {
    "duration": 7,
    "start_time": "2024-09-08T20:14:22.701Z"
   },
   {
    "duration": 10,
    "start_time": "2024-09-08T20:14:48.612Z"
   },
   {
    "duration": 13,
    "start_time": "2024-09-08T20:15:56.369Z"
   },
   {
    "duration": 9,
    "start_time": "2024-09-08T20:16:11.096Z"
   },
   {
    "duration": 70,
    "start_time": "2024-09-08T20:16:22.851Z"
   },
   {
    "duration": 3,
    "start_time": "2024-09-08T20:16:30.925Z"
   },
   {
    "duration": 5,
    "start_time": "2024-09-08T20:16:32.169Z"
   },
   {
    "duration": 69,
    "start_time": "2024-09-08T20:16:35.753Z"
   },
   {
    "duration": 4,
    "start_time": "2024-09-08T20:23:59.076Z"
   },
   {
    "duration": 4,
    "start_time": "2024-09-08T20:26:44.604Z"
   },
   {
    "duration": 2260,
    "start_time": "2024-09-08T20:30:38.507Z"
   },
   {
    "duration": 34,
    "start_time": "2024-09-08T20:30:40.769Z"
   },
   {
    "duration": 3,
    "start_time": "2024-09-08T20:30:42.312Z"
   },
   {
    "duration": 7,
    "start_time": "2024-09-08T20:30:42.857Z"
   },
   {
    "duration": 8,
    "start_time": "2024-09-08T20:30:43.844Z"
   },
   {
    "duration": 30,
    "start_time": "2024-09-08T20:31:06.537Z"
   },
   {
    "duration": 3,
    "start_time": "2024-09-08T20:31:07.795Z"
   },
   {
    "duration": 5,
    "start_time": "2024-09-08T20:31:08.106Z"
   },
   {
    "duration": 6,
    "start_time": "2024-09-08T20:31:08.897Z"
   },
   {
    "duration": 6,
    "start_time": "2024-09-08T20:31:19.257Z"
   },
   {
    "duration": 6,
    "start_time": "2024-09-08T20:31:20.136Z"
   },
   {
    "duration": 5,
    "start_time": "2024-09-08T20:31:21.497Z"
   },
   {
    "duration": 7,
    "start_time": "2024-09-08T20:31:25.576Z"
   },
   {
    "duration": 827,
    "start_time": "2024-09-08T20:31:28.667Z"
   },
   {
    "duration": 6,
    "start_time": "2024-09-08T20:31:57.537Z"
   },
   {
    "duration": 10,
    "start_time": "2024-09-08T20:32:02.988Z"
   },
   {
    "duration": 8,
    "start_time": "2024-09-08T20:32:11.058Z"
   },
   {
    "duration": 9,
    "start_time": "2024-09-08T20:34:04.477Z"
   },
   {
    "duration": 4,
    "start_time": "2024-09-08T20:34:42.734Z"
   },
   {
    "duration": 6414,
    "start_time": "2024-09-08T20:34:48.007Z"
   },
   {
    "duration": 7,
    "start_time": "2024-09-08T20:36:08.612Z"
   },
   {
    "duration": 649,
    "start_time": "2024-09-08T20:36:18.159Z"
   },
   {
    "duration": 3,
    "start_time": "2024-09-08T20:47:14.462Z"
   },
   {
    "duration": 109,
    "start_time": "2024-09-08T20:48:27.333Z"
   },
   {
    "duration": 24338,
    "start_time": "2024-09-08T20:49:03.660Z"
   },
   {
    "duration": 24619,
    "start_time": "2024-09-08T20:56:36.803Z"
   },
   {
    "duration": 25154,
    "start_time": "2024-09-08T20:57:09.536Z"
   },
   {
    "duration": 207,
    "start_time": "2024-09-08T21:01:10.188Z"
   },
   {
    "duration": 15,
    "start_time": "2024-09-08T21:01:37.231Z"
   },
   {
    "duration": 5,
    "start_time": "2024-09-08T21:01:55.912Z"
   },
   {
    "duration": 4,
    "start_time": "2024-09-08T21:02:02.167Z"
   },
   {
    "duration": 14,
    "start_time": "2024-09-08T21:02:18.718Z"
   },
   {
    "duration": 16,
    "start_time": "2024-09-08T21:02:31.357Z"
   },
   {
    "duration": 29,
    "start_time": "2024-09-08T21:02:50.527Z"
   },
   {
    "duration": 14,
    "start_time": "2024-09-08T21:02:55.742Z"
   },
   {
    "duration": 30208,
    "start_time": "2024-09-08T21:03:19.412Z"
   },
   {
    "duration": 23848,
    "start_time": "2024-09-08T21:04:25.627Z"
   },
   {
    "duration": 4,
    "start_time": "2024-09-08T21:07:10.582Z"
   },
   {
    "duration": 125,
    "start_time": "2024-09-08T21:07:15.822Z"
   },
   {
    "duration": 140,
    "start_time": "2024-09-08T21:07:28.599Z"
   },
   {
    "duration": 128,
    "start_time": "2024-09-08T21:07:33.528Z"
   },
   {
    "duration": 4,
    "start_time": "2024-09-08T21:08:32.579Z"
   },
   {
    "duration": 22149,
    "start_time": "2024-09-08T21:08:43.827Z"
   },
   {
    "duration": 85720,
    "start_time": "2024-09-08T21:14:03.092Z"
   },
   {
    "duration": 23345,
    "start_time": "2024-09-08T21:15:49.057Z"
   },
   {
    "duration": 20,
    "start_time": "2024-09-08T21:16:57.382Z"
   },
   {
    "duration": 24,
    "start_time": "2024-09-08T21:17:16.657Z"
   },
   {
    "duration": 20,
    "start_time": "2024-09-08T21:17:28.657Z"
   },
   {
    "duration": 3,
    "start_time": "2024-09-08T21:17:44.729Z"
   },
   {
    "duration": 21578,
    "start_time": "2024-09-08T21:17:59.638Z"
   },
   {
    "duration": 4127,
    "start_time": "2024-09-08T21:19:56.912Z"
   },
   {
    "duration": 248,
    "start_time": "2024-09-08T21:20:44.688Z"
   },
   {
    "duration": 38,
    "start_time": "2024-09-08T21:25:17.582Z"
   },
   {
    "duration": 69,
    "start_time": "2024-09-08T21:25:55.077Z"
   },
   {
    "duration": 20,
    "start_time": "2024-09-08T21:29:07.175Z"
   },
   {
    "duration": 3,
    "start_time": "2024-09-08T21:29:15.477Z"
   },
   {
    "duration": 20,
    "start_time": "2024-09-08T21:29:33.608Z"
   },
   {
    "duration": 16,
    "start_time": "2024-09-08T21:29:42.062Z"
   },
   {
    "duration": 8174,
    "start_time": "2024-09-08T21:30:05.977Z"
   },
   {
    "duration": 5,
    "start_time": "2024-09-08T21:30:39.212Z"
   },
   {
    "duration": 6,
    "start_time": "2024-09-08T21:30:41.757Z"
   },
   {
    "duration": 4,
    "start_time": "2024-09-08T21:30:48.923Z"
   },
   {
    "duration": 6100,
    "start_time": "2024-09-08T21:30:55.899Z"
   },
   {
    "duration": 70,
    "start_time": "2024-09-08T21:31:06.210Z"
   },
   {
    "duration": 7,
    "start_time": "2024-09-08T21:31:50.507Z"
   },
   {
    "duration": 705,
    "start_time": "2024-09-08T21:31:51.152Z"
   },
   {
    "duration": 4,
    "start_time": "2024-09-08T21:32:13.047Z"
   },
   {
    "duration": 6193,
    "start_time": "2024-09-08T21:32:16.293Z"
   },
   {
    "duration": 4,
    "start_time": "2024-09-08T21:36:38.777Z"
   },
   {
    "duration": 106,
    "start_time": "2024-09-08T21:37:38.057Z"
   },
   {
    "duration": 7,
    "start_time": "2024-09-08T21:38:19.669Z"
   },
   {
    "duration": 3,
    "start_time": "2024-09-08T21:40:08.707Z"
   },
   {
    "duration": 16,
    "start_time": "2024-09-08T21:40:24.124Z"
   },
   {
    "duration": 8,
    "start_time": "2024-09-08T21:40:32.467Z"
   },
   {
    "duration": 9,
    "start_time": "2024-09-08T21:41:11.497Z"
   },
   {
    "duration": 5,
    "start_time": "2024-09-08T21:41:29.323Z"
   },
   {
    "duration": 363,
    "start_time": "2024-09-08T21:41:36.292Z"
   },
   {
    "duration": 6093,
    "start_time": "2024-09-08T21:42:27.853Z"
   },
   {
    "duration": 4,
    "start_time": "2024-09-08T21:43:52.822Z"
   },
   {
    "duration": 5,
    "start_time": "2024-09-08T21:45:05.934Z"
   },
   {
    "duration": 85,
    "start_time": "2024-09-08T21:45:21.779Z"
   },
   {
    "duration": 22,
    "start_time": "2024-09-08T21:45:48.378Z"
   },
   {
    "duration": 6,
    "start_time": "2024-09-08T21:45:55.802Z"
   },
   {
    "duration": 13,
    "start_time": "2024-09-08T21:46:10.370Z"
   },
   {
    "duration": 2,
    "start_time": "2024-09-08T21:46:18.094Z"
   },
   {
    "duration": 4,
    "start_time": "2024-09-08T21:46:32.592Z"
   },
   {
    "duration": 4,
    "start_time": "2024-09-08T21:46:33.387Z"
   },
   {
    "duration": 5,
    "start_time": "2024-09-08T21:46:34.197Z"
   },
   {
    "duration": 10,
    "start_time": "2024-09-08T21:46:38.422Z"
   },
   {
    "duration": 21,
    "start_time": "2024-09-08T21:47:55.138Z"
   },
   {
    "duration": 823,
    "start_time": "2024-09-08T21:50:36.602Z"
   },
   {
    "duration": 190,
    "start_time": "2024-09-09T11:50:16.266Z"
   },
   {
    "duration": 4475,
    "start_time": "2024-09-09T11:50:20.103Z"
   },
   {
    "duration": 48,
    "start_time": "2024-09-09T11:50:26.392Z"
   },
   {
    "duration": 2,
    "start_time": "2024-09-09T11:50:27.367Z"
   },
   {
    "duration": 14,
    "start_time": "2024-09-09T11:50:28.099Z"
   },
   {
    "duration": 10,
    "start_time": "2024-09-09T11:50:28.507Z"
   },
   {
    "duration": 7,
    "start_time": "2024-09-09T11:50:32.033Z"
   },
   {
    "duration": 6,
    "start_time": "2024-09-09T11:50:35.960Z"
   },
   {
    "duration": 8,
    "start_time": "2024-09-09T11:50:36.182Z"
   },
   {
    "duration": 7,
    "start_time": "2024-09-09T11:50:37.172Z"
   },
   {
    "duration": 964,
    "start_time": "2024-09-09T11:50:37.899Z"
   },
   {
    "duration": 7,
    "start_time": "2024-09-09T12:06:40.709Z"
   },
   {
    "duration": 4,
    "start_time": "2024-09-09T12:07:24.142Z"
   },
   {
    "duration": 11,
    "start_time": "2024-09-09T12:07:28.078Z"
   },
   {
    "duration": 10,
    "start_time": "2024-09-09T12:07:28.899Z"
   },
   {
    "duration": 6,
    "start_time": "2024-09-09T12:07:34.257Z"
   },
   {
    "duration": 4,
    "start_time": "2024-09-09T12:07:37.652Z"
   },
   {
    "duration": 9,
    "start_time": "2024-09-09T12:09:15.352Z"
   },
   {
    "duration": 7,
    "start_time": "2024-09-09T12:09:58.708Z"
   },
   {
    "duration": 12,
    "start_time": "2024-09-09T12:10:03.197Z"
   },
   {
    "duration": 5977,
    "start_time": "2024-09-09T12:11:26.858Z"
   },
   {
    "duration": 28,
    "start_time": "2024-09-09T12:18:45.082Z"
   },
   {
    "duration": 905,
    "start_time": "2024-09-09T12:18:51.608Z"
   },
   {
    "duration": 497,
    "start_time": "2024-09-09T12:20:13.372Z"
   },
   {
    "duration": 72,
    "start_time": "2024-09-09T12:21:13.565Z"
   },
   {
    "duration": 4,
    "start_time": "2024-09-09T12:21:40.268Z"
   },
   {
    "duration": 182,
    "start_time": "2024-09-09T12:23:09.882Z"
   },
   {
    "duration": 6046,
    "start_time": "2024-09-09T12:23:20.998Z"
   },
   {
    "duration": 9,
    "start_time": "2024-09-09T12:23:59.342Z"
   },
   {
    "duration": 907,
    "start_time": "2024-09-09T12:24:02.437Z"
   },
   {
    "duration": 72,
    "start_time": "2024-09-09T12:25:03.657Z"
   },
   {
    "duration": 6017,
    "start_time": "2024-09-09T12:29:15.627Z"
   },
   {
    "duration": 3,
    "start_time": "2024-09-09T12:33:31.912Z"
   },
   {
    "duration": 918,
    "start_time": "2024-09-09T12:33:53.121Z"
   },
   {
    "duration": 69733,
    "start_time": "2024-09-09T12:34:59.507Z"
   },
   {
    "duration": 3,
    "start_time": "2024-09-09T12:54:43.642Z"
   },
   {
    "duration": 3,
    "start_time": "2024-09-09T12:55:14.356Z"
   },
   {
    "duration": 14,
    "start_time": "2024-09-09T12:55:14.699Z"
   },
   {
    "duration": 4,
    "start_time": "2024-09-09T12:55:15.143Z"
   },
   {
    "duration": 5,
    "start_time": "2024-09-09T12:55:15.913Z"
   },
   {
    "duration": 6016,
    "start_time": "2024-09-09T12:55:21.251Z"
   },
   {
    "duration": 6,
    "start_time": "2024-09-09T12:55:41.448Z"
   },
   {
    "duration": 9,
    "start_time": "2024-09-09T12:55:52.082Z"
   },
   {
    "duration": 2438,
    "start_time": "2024-09-09T13:00:43.512Z"
   },
   {
    "duration": 23,
    "start_time": "2024-09-09T13:00:45.952Z"
   },
   {
    "duration": 24,
    "start_time": "2024-09-09T13:00:45.977Z"
   },
   {
    "duration": 7,
    "start_time": "2024-09-09T13:00:46.009Z"
   },
   {
    "duration": 9,
    "start_time": "2024-09-09T13:00:46.018Z"
   },
   {
    "duration": 6,
    "start_time": "2024-09-09T13:00:46.029Z"
   },
   {
    "duration": 4,
    "start_time": "2024-09-09T13:00:46.037Z"
   },
   {
    "duration": 5,
    "start_time": "2024-09-09T13:00:46.042Z"
   },
   {
    "duration": 6,
    "start_time": "2024-09-09T13:00:46.049Z"
   },
   {
    "duration": 925,
    "start_time": "2024-09-09T13:00:46.058Z"
   },
   {
    "duration": 21,
    "start_time": "2024-09-09T13:00:46.985Z"
   },
   {
    "duration": 11,
    "start_time": "2024-09-09T13:00:47.008Z"
   },
   {
    "duration": 6,
    "start_time": "2024-09-09T13:00:47.021Z"
   },
   {
    "duration": 721,
    "start_time": "2024-09-09T13:00:47.029Z"
   },
   {
    "duration": 5,
    "start_time": "2024-09-09T13:00:47.752Z"
   },
   {
    "duration": 7,
    "start_time": "2024-09-09T13:00:47.759Z"
   },
   {
    "duration": 30,
    "start_time": "2024-09-09T13:00:47.767Z"
   },
   {
    "duration": 6,
    "start_time": "2024-09-09T13:00:47.811Z"
   },
   {
    "duration": 3,
    "start_time": "2024-09-09T13:00:47.818Z"
   },
   {
    "duration": 3,
    "start_time": "2024-09-09T13:00:47.823Z"
   },
   {
    "duration": 4,
    "start_time": "2024-09-09T13:00:47.827Z"
   },
   {
    "duration": 4,
    "start_time": "2024-09-09T13:00:47.833Z"
   },
   {
    "duration": 624,
    "start_time": "2024-09-09T13:00:47.839Z"
   },
   {
    "duration": 0,
    "start_time": "2024-09-09T13:00:48.465Z"
   },
   {
    "duration": 0,
    "start_time": "2024-09-09T13:00:48.466Z"
   },
   {
    "duration": 0,
    "start_time": "2024-09-09T13:00:48.468Z"
   },
   {
    "duration": 68790,
    "start_time": "2024-09-09T13:01:38.103Z"
   },
   {
    "duration": 9921,
    "start_time": "2024-09-09T13:03:30.814Z"
   },
   {
    "duration": 8,
    "start_time": "2024-09-09T13:05:14.912Z"
   },
   {
    "duration": 69594,
    "start_time": "2024-09-09T13:05:18.612Z"
   },
   {
    "duration": 28586,
    "start_time": "2024-09-09T13:11:22.072Z"
   },
   {
    "duration": 3,
    "start_time": "2024-09-09T13:26:57.656Z"
   },
   {
    "duration": 3,
    "start_time": "2024-09-09T13:26:59.011Z"
   },
   {
    "duration": 3,
    "start_time": "2024-09-09T13:26:59.728Z"
   },
   {
    "duration": 4,
    "start_time": "2024-09-09T13:27:00.383Z"
   },
   {
    "duration": 9,
    "start_time": "2024-09-09T13:27:00.803Z"
   },
   {
    "duration": 28840,
    "start_time": "2024-09-09T13:27:06.792Z"
   },
   {
    "duration": 4066,
    "start_time": "2024-09-09T17:38:00.891Z"
   },
   {
    "duration": 39,
    "start_time": "2024-09-09T17:38:04.960Z"
   },
   {
    "duration": 3,
    "start_time": "2024-09-09T17:38:05.000Z"
   },
   {
    "duration": 6,
    "start_time": "2024-09-09T17:38:05.004Z"
   },
   {
    "duration": 12,
    "start_time": "2024-09-09T17:38:05.012Z"
   },
   {
    "duration": 7,
    "start_time": "2024-09-09T17:38:05.026Z"
   },
   {
    "duration": 5,
    "start_time": "2024-09-09T17:38:05.034Z"
   },
   {
    "duration": 4,
    "start_time": "2024-09-09T17:38:05.041Z"
   },
   {
    "duration": 5,
    "start_time": "2024-09-09T17:38:05.047Z"
   },
   {
    "duration": 871,
    "start_time": "2024-09-09T17:38:05.054Z"
   },
   {
    "duration": 6,
    "start_time": "2024-09-09T17:38:05.926Z"
   },
   {
    "duration": 10,
    "start_time": "2024-09-09T17:38:05.933Z"
   },
   {
    "duration": 6,
    "start_time": "2024-09-09T17:38:05.944Z"
   },
   {
    "duration": 631,
    "start_time": "2024-09-09T17:38:05.953Z"
   },
   {
    "duration": 4,
    "start_time": "2024-09-09T17:38:06.585Z"
   },
   {
    "duration": 11,
    "start_time": "2024-09-09T17:38:06.590Z"
   },
   {
    "duration": 6,
    "start_time": "2024-09-09T17:38:06.602Z"
   },
   {
    "duration": 19,
    "start_time": "2024-09-09T17:38:06.609Z"
   },
   {
    "duration": 3,
    "start_time": "2024-09-09T17:38:06.630Z"
   },
   {
    "duration": 3,
    "start_time": "2024-09-09T17:38:06.634Z"
   },
   {
    "duration": 3,
    "start_time": "2024-09-09T17:38:06.639Z"
   },
   {
    "duration": 3,
    "start_time": "2024-09-09T17:38:06.644Z"
   },
   {
    "duration": 5,
    "start_time": "2024-09-09T17:38:06.648Z"
   },
   {
    "duration": 57697,
    "start_time": "2024-09-09T17:38:06.655Z"
   },
   {
    "duration": 23598,
    "start_time": "2024-09-09T17:39:04.354Z"
   },
   {
    "duration": 7,
    "start_time": "2024-09-09T17:39:27.954Z"
   },
   {
    "duration": 4248,
    "start_time": "2024-09-09T17:50:06.333Z"
   },
   {
    "duration": 39,
    "start_time": "2024-09-09T17:50:12.393Z"
   },
   {
    "duration": 3,
    "start_time": "2024-09-09T17:50:13.354Z"
   },
   {
    "duration": 7,
    "start_time": "2024-09-09T17:50:13.830Z"
   },
   {
    "duration": 8,
    "start_time": "2024-09-09T17:50:13.989Z"
   },
   {
    "duration": 7,
    "start_time": "2024-09-09T17:50:16.148Z"
   },
   {
    "duration": 6,
    "start_time": "2024-09-09T17:50:16.732Z"
   },
   {
    "duration": 5,
    "start_time": "2024-09-09T17:50:17.328Z"
   },
   {
    "duration": 6,
    "start_time": "2024-09-09T17:50:17.878Z"
   },
   {
    "duration": 786,
    "start_time": "2024-09-09T17:50:18.358Z"
   },
   {
    "duration": 6,
    "start_time": "2024-09-09T17:50:20.032Z"
   },
   {
    "duration": 10,
    "start_time": "2024-09-09T17:50:20.820Z"
   },
   {
    "duration": 7,
    "start_time": "2024-09-09T17:50:21.312Z"
   },
   {
    "duration": 637,
    "start_time": "2024-09-09T17:50:21.758Z"
   },
   {
    "duration": 3,
    "start_time": "2024-09-09T17:50:30.683Z"
   },
   {
    "duration": 7,
    "start_time": "2024-09-09T17:50:33.112Z"
   },
   {
    "duration": 6,
    "start_time": "2024-09-09T17:50:34.022Z"
   },
   {
    "duration": 6,
    "start_time": "2024-09-09T17:50:36.881Z"
   },
   {
    "duration": 4,
    "start_time": "2024-09-09T17:50:55.152Z"
   },
   {
    "duration": 3,
    "start_time": "2024-09-09T17:50:58.383Z"
   },
   {
    "duration": 4,
    "start_time": "2024-09-09T17:50:58.787Z"
   },
   {
    "duration": 591,
    "start_time": "2024-09-09T17:51:08.333Z"
   },
   {
    "duration": 4,
    "start_time": "2024-09-09T17:54:36.766Z"
   },
   {
    "duration": 20,
    "start_time": "2024-09-09T17:54:37.693Z"
   },
   {
    "duration": 3,
    "start_time": "2024-09-09T17:54:38.227Z"
   },
   {
    "duration": 5,
    "start_time": "2024-09-09T17:54:38.812Z"
   },
   {
    "duration": 6,
    "start_time": "2024-09-09T17:54:39.537Z"
   },
   {
    "duration": 5,
    "start_time": "2024-09-09T17:54:41.562Z"
   },
   {
    "duration": 5,
    "start_time": "2024-09-09T17:54:42.110Z"
   },
   {
    "duration": 5,
    "start_time": "2024-09-09T17:54:42.567Z"
   },
   {
    "duration": 6,
    "start_time": "2024-09-09T17:54:42.742Z"
   },
   {
    "duration": 716,
    "start_time": "2024-09-09T17:54:43.189Z"
   },
   {
    "duration": 5,
    "start_time": "2024-09-09T17:54:44.124Z"
   },
   {
    "duration": 10,
    "start_time": "2024-09-09T17:54:44.952Z"
   },
   {
    "duration": 8,
    "start_time": "2024-09-09T17:54:45.447Z"
   },
   {
    "duration": 684,
    "start_time": "2024-09-09T17:54:45.982Z"
   },
   {
    "duration": 4,
    "start_time": "2024-09-09T17:55:56.617Z"
   },
   {
    "duration": 8,
    "start_time": "2024-09-09T17:56:01.787Z"
   },
   {
    "duration": 6,
    "start_time": "2024-09-09T17:56:02.169Z"
   },
   {
    "duration": 7,
    "start_time": "2024-09-09T17:56:03.472Z"
   },
   {
    "duration": 3,
    "start_time": "2024-09-09T17:56:27.422Z"
   },
   {
    "duration": 3,
    "start_time": "2024-09-09T17:56:31.637Z"
   },
   {
    "duration": 19,
    "start_time": "2024-09-09T17:56:35.739Z"
   },
   {
    "duration": 350,
    "start_time": "2024-09-09T17:56:47.127Z"
   },
   {
    "duration": 17,
    "start_time": "2024-09-09T17:57:02.268Z"
   },
   {
    "duration": 2371,
    "start_time": "2024-09-09T17:57:17.043Z"
   },
   {
    "duration": 25,
    "start_time": "2024-09-09T17:57:19.416Z"
   },
   {
    "duration": 2,
    "start_time": "2024-09-09T17:57:20.377Z"
   },
   {
    "duration": 6,
    "start_time": "2024-09-09T17:57:20.647Z"
   },
   {
    "duration": 7,
    "start_time": "2024-09-09T17:57:21.112Z"
   },
   {
    "duration": 6,
    "start_time": "2024-09-09T17:57:22.577Z"
   },
   {
    "duration": 6,
    "start_time": "2024-09-09T17:57:23.591Z"
   },
   {
    "duration": 5,
    "start_time": "2024-09-09T17:57:23.888Z"
   },
   {
    "duration": 7,
    "start_time": "2024-09-09T17:57:24.111Z"
   },
   {
    "duration": 884,
    "start_time": "2024-09-09T17:57:24.496Z"
   },
   {
    "duration": 6,
    "start_time": "2024-09-09T17:57:25.382Z"
   },
   {
    "duration": 10,
    "start_time": "2024-09-09T17:57:26.184Z"
   },
   {
    "duration": 7,
    "start_time": "2024-09-09T17:57:27.121Z"
   },
   {
    "duration": 651,
    "start_time": "2024-09-09T17:57:27.316Z"
   },
   {
    "duration": 4,
    "start_time": "2024-09-09T17:57:31.537Z"
   },
   {
    "duration": 9,
    "start_time": "2024-09-09T17:57:34.252Z"
   },
   {
    "duration": 6,
    "start_time": "2024-09-09T17:57:37.516Z"
   },
   {
    "duration": 5,
    "start_time": "2024-09-09T17:57:44.094Z"
   },
   {
    "duration": 3,
    "start_time": "2024-09-09T17:57:57.487Z"
   },
   {
    "duration": 4,
    "start_time": "2024-09-09T17:58:04.571Z"
   },
   {
    "duration": 15,
    "start_time": "2024-09-09T17:58:08.423Z"
   },
   {
    "duration": 3,
    "start_time": "2024-09-09T17:58:21.618Z"
   },
   {
    "duration": 510,
    "start_time": "2024-09-09T17:58:50.060Z"
   },
   {
    "duration": 39,
    "start_time": "2024-09-09T17:59:20.886Z"
   },
   {
    "duration": 3,
    "start_time": "2024-09-09T17:59:33.158Z"
   },
   {
    "duration": 21828,
    "start_time": "2024-09-09T18:00:13.286Z"
   },
   {
    "duration": 25591,
    "start_time": "2024-09-09T18:01:01.528Z"
   },
   {
    "duration": 4764,
    "start_time": "2024-09-09T18:02:22.970Z"
   },
   {
    "duration": 13,
    "start_time": "2024-09-09T18:02:34.018Z"
   },
   {
    "duration": 73598,
    "start_time": "2024-09-09T18:02:39.928Z"
   },
   {
    "duration": 132,
    "start_time": "2024-09-09T18:03:53.528Z"
   },
   {
    "duration": 54,
    "start_time": "2024-09-09T18:05:57.547Z"
   },
   {
    "duration": 26158,
    "start_time": "2024-09-09T18:10:01.554Z"
   },
   {
    "duration": 3,
    "start_time": "2024-09-09T18:13:14.201Z"
   },
   {
    "duration": 7,
    "start_time": "2024-09-09T18:13:31.817Z"
   },
   {
    "duration": 206366,
    "start_time": "2024-09-09T18:13:37.157Z"
   },
   {
    "duration": 171,
    "start_time": "2024-09-09T18:18:30.757Z"
   },
   {
    "duration": 39168,
    "start_time": "2024-09-09T18:19:00.351Z"
   },
   {
    "duration": 175,
    "start_time": "2024-09-09T18:24:37.156Z"
   },
   {
    "duration": 2455,
    "start_time": "2024-09-09T18:24:49.502Z"
   },
   {
    "duration": 48,
    "start_time": "2024-09-09T18:25:26.363Z"
   },
   {
    "duration": 3,
    "start_time": "2024-09-09T18:25:26.967Z"
   },
   {
    "duration": 7,
    "start_time": "2024-09-09T18:25:27.213Z"
   },
   {
    "duration": 10,
    "start_time": "2024-09-09T18:25:27.420Z"
   },
   {
    "duration": 7,
    "start_time": "2024-09-09T18:25:28.287Z"
   },
   {
    "duration": 6,
    "start_time": "2024-09-09T18:25:29.032Z"
   },
   {
    "duration": 8,
    "start_time": "2024-09-09T18:25:29.195Z"
   },
   {
    "duration": 6,
    "start_time": "2024-09-09T18:25:29.638Z"
   },
   {
    "duration": 850,
    "start_time": "2024-09-09T18:25:30.102Z"
   },
   {
    "duration": 5,
    "start_time": "2024-09-09T18:25:30.955Z"
   },
   {
    "duration": 11,
    "start_time": "2024-09-09T18:25:31.068Z"
   },
   {
    "duration": 7,
    "start_time": "2024-09-09T18:25:31.257Z"
   },
   {
    "duration": 674,
    "start_time": "2024-09-09T18:25:31.674Z"
   },
   {
    "duration": 4,
    "start_time": "2024-09-09T18:25:33.792Z"
   },
   {
    "duration": 10,
    "start_time": "2024-09-09T18:25:34.692Z"
   },
   {
    "duration": 6,
    "start_time": "2024-09-09T18:25:36.128Z"
   },
   {
    "duration": 6,
    "start_time": "2024-09-09T18:25:40.689Z"
   },
   {
    "duration": 3,
    "start_time": "2024-09-09T18:25:42.579Z"
   },
   {
    "duration": 4,
    "start_time": "2024-09-09T18:25:42.922Z"
   },
   {
    "duration": 4,
    "start_time": "2024-09-09T18:25:48.792Z"
   },
   {
    "duration": 3,
    "start_time": "2024-09-09T18:28:18.613Z"
   },
   {
    "duration": 4,
    "start_time": "2024-09-09T18:29:06.378Z"
   },
   {
    "duration": 3,
    "start_time": "2024-09-09T18:29:19.512Z"
   },
   {
    "duration": 222496,
    "start_time": "2024-09-09T18:29:20.232Z"
   },
   {
    "duration": 5273,
    "start_time": "2024-09-09T18:36:13.493Z"
   },
   {
    "duration": 4703,
    "start_time": "2024-09-09T18:36:56.999Z"
   },
   {
    "duration": 71,
    "start_time": "2024-09-09T18:42:03.372Z"
   },
   {
    "duration": 3,
    "start_time": "2024-09-09T18:47:40.143Z"
   },
   {
    "duration": 4,
    "start_time": "2024-09-09T18:47:47.757Z"
   },
   {
    "duration": 17,
    "start_time": "2024-09-09T18:47:48.658Z"
   },
   {
    "duration": 18,
    "start_time": "2024-09-09T18:47:52.525Z"
   },
   {
    "duration": 3,
    "start_time": "2024-09-09T18:48:06.048Z"
   },
   {
    "duration": 4,
    "start_time": "2024-09-09T18:48:08.087Z"
   },
   {
    "duration": 5,
    "start_time": "2024-09-09T18:48:08.692Z"
   },
   {
    "duration": 3,
    "start_time": "2024-09-09T18:48:15.562Z"
   },
   {
    "duration": 607,
    "start_time": "2024-09-09T18:48:15.762Z"
   },
   {
    "duration": 612,
    "start_time": "2024-09-09T18:50:15.047Z"
   },
   {
    "duration": 4,
    "start_time": "2024-09-09T18:50:53.876Z"
   },
   {
    "duration": 4,
    "start_time": "2024-09-09T18:50:59.255Z"
   },
   {
    "duration": 2875,
    "start_time": "2024-09-09T19:04:45.067Z"
   },
   {
    "duration": 26,
    "start_time": "2024-09-09T19:04:49.847Z"
   },
   {
    "duration": 6,
    "start_time": "2024-09-09T19:04:50.528Z"
   },
   {
    "duration": 15,
    "start_time": "2024-09-09T19:04:51.028Z"
   },
   {
    "duration": 16,
    "start_time": "2024-09-09T19:04:51.227Z"
   },
   {
    "duration": 7,
    "start_time": "2024-09-09T19:04:52.067Z"
   },
   {
    "duration": 5,
    "start_time": "2024-09-09T19:04:52.562Z"
   },
   {
    "duration": 6,
    "start_time": "2024-09-09T19:04:52.850Z"
   },
   {
    "duration": 10,
    "start_time": "2024-09-09T19:04:53.258Z"
   },
   {
    "duration": 938,
    "start_time": "2024-09-09T19:04:53.662Z"
   },
   {
    "duration": 6,
    "start_time": "2024-09-09T19:04:54.602Z"
   },
   {
    "duration": 12,
    "start_time": "2024-09-09T19:04:54.840Z"
   },
   {
    "duration": 6,
    "start_time": "2024-09-09T19:04:59.152Z"
   },
   {
    "duration": 715,
    "start_time": "2024-09-09T19:04:59.346Z"
   },
   {
    "duration": 3,
    "start_time": "2024-09-09T19:08:25.954Z"
   },
   {
    "duration": 11,
    "start_time": "2024-09-09T19:08:28.733Z"
   },
   {
    "duration": 6,
    "start_time": "2024-09-09T19:08:29.892Z"
   },
   {
    "duration": 6,
    "start_time": "2024-09-09T19:08:32.538Z"
   },
   {
    "duration": 4,
    "start_time": "2024-09-09T19:08:36.302Z"
   },
   {
    "duration": 3,
    "start_time": "2024-09-09T19:08:36.967Z"
   },
   {
    "duration": 5,
    "start_time": "2024-09-09T19:08:38.293Z"
   },
   {
    "duration": 501,
    "start_time": "2024-09-09T19:08:46.553Z"
   },
   {
    "duration": 3,
    "start_time": "2024-09-09T19:09:13.307Z"
   },
   {
    "duration": 3532,
    "start_time": "2024-09-09T19:09:20.047Z"
   },
   {
    "duration": 3335,
    "start_time": "2024-09-09T19:09:44.757Z"
   },
   {
    "duration": 3,
    "start_time": "2024-09-09T19:10:12.395Z"
   },
   {
    "duration": 136,
    "start_time": "2024-09-09T19:11:02.362Z"
   },
   {
    "duration": 178851,
    "start_time": "2024-09-09T19:11:16.429Z"
   },
   {
    "duration": 873751,
    "start_time": "2024-09-09T19:14:30.973Z"
   },
   {
    "duration": 532987,
    "start_time": "2024-09-09T19:33:34.693Z"
   },
   {
    "duration": 15957,
    "start_time": "2024-09-09T19:42:40.642Z"
   },
   {
    "duration": 7,
    "start_time": "2024-09-09T19:43:12.248Z"
   },
   {
    "duration": 68766,
    "start_time": "2024-09-09T19:43:17.485Z"
   },
   {
    "duration": 4352,
    "start_time": "2024-09-10T04:36:55.504Z"
   },
   {
    "duration": 52,
    "start_time": "2024-09-10T04:36:59.859Z"
   },
   {
    "duration": 3,
    "start_time": "2024-09-10T04:36:59.914Z"
   },
   {
    "duration": 5,
    "start_time": "2024-09-10T04:36:59.921Z"
   },
   {
    "duration": 16,
    "start_time": "2024-09-10T04:36:59.929Z"
   },
   {
    "duration": 7,
    "start_time": "2024-09-10T04:36:59.947Z"
   },
   {
    "duration": 7,
    "start_time": "2024-09-10T04:36:59.956Z"
   },
   {
    "duration": 6,
    "start_time": "2024-09-10T04:36:59.965Z"
   },
   {
    "duration": 7,
    "start_time": "2024-09-10T04:36:59.973Z"
   },
   {
    "duration": 989,
    "start_time": "2024-09-10T04:36:59.984Z"
   },
   {
    "duration": 5,
    "start_time": "2024-09-10T04:37:00.975Z"
   },
   {
    "duration": 9,
    "start_time": "2024-09-10T04:37:00.982Z"
   },
   {
    "duration": 5,
    "start_time": "2024-09-10T04:37:00.993Z"
   },
   {
    "duration": 686,
    "start_time": "2024-09-10T04:37:01.001Z"
   },
   {
    "duration": 5,
    "start_time": "2024-09-10T04:37:01.688Z"
   },
   {
    "duration": 7,
    "start_time": "2024-09-10T04:37:01.694Z"
   },
   {
    "duration": 6,
    "start_time": "2024-09-10T04:37:01.703Z"
   },
   {
    "duration": 32,
    "start_time": "2024-09-10T04:37:01.711Z"
   },
   {
    "duration": 3,
    "start_time": "2024-09-10T04:37:01.745Z"
   },
   {
    "duration": 5,
    "start_time": "2024-09-10T04:37:01.750Z"
   },
   {
    "duration": 5,
    "start_time": "2024-09-10T04:37:01.757Z"
   },
   {
    "duration": 12,
    "start_time": "2024-09-10T04:37:02.878Z"
   },
   {
    "duration": 11,
    "start_time": "2024-09-10T04:37:07.477Z"
   },
   {
    "duration": 436,
    "start_time": "2024-09-10T04:41:14.404Z"
   },
   {
    "duration": 33183,
    "start_time": "2024-09-10T04:41:22.965Z"
   },
   {
    "duration": 35150,
    "start_time": "2024-09-10T04:43:58.418Z"
   },
   {
    "duration": 5,
    "start_time": "2024-09-10T04:46:11.856Z"
   },
   {
    "duration": 6,
    "start_time": "2024-09-10T04:47:54.238Z"
   },
   {
    "duration": 34127,
    "start_time": "2024-09-10T04:47:57.440Z"
   },
   {
    "duration": 2243,
    "start_time": "2024-09-10T04:49:10.616Z"
   },
   {
    "duration": 22,
    "start_time": "2024-09-10T04:53:48.507Z"
   },
   {
    "duration": 40081,
    "start_time": "2024-09-10T04:53:59.880Z"
   },
   {
    "duration": 22,
    "start_time": "2024-09-10T04:57:57.011Z"
   },
   {
    "duration": 11167,
    "start_time": "2024-09-10T04:58:08.060Z"
   },
   {
    "duration": 164,
    "start_time": "2024-09-10T10:45:10.062Z"
   },
   {
    "duration": 4041,
    "start_time": "2024-09-10T10:45:19.912Z"
   },
   {
    "duration": 38,
    "start_time": "2024-09-10T10:45:26.022Z"
   },
   {
    "duration": 3,
    "start_time": "2024-09-10T10:45:26.552Z"
   },
   {
    "duration": 6,
    "start_time": "2024-09-10T10:45:26.922Z"
   },
   {
    "duration": 12,
    "start_time": "2024-09-10T10:45:27.511Z"
   },
   {
    "duration": 9,
    "start_time": "2024-09-10T10:45:28.962Z"
   },
   {
    "duration": 7,
    "start_time": "2024-09-10T10:45:29.622Z"
   },
   {
    "duration": 6,
    "start_time": "2024-09-10T10:45:30.207Z"
   },
   {
    "duration": 6,
    "start_time": "2024-09-10T10:45:33.017Z"
   },
   {
    "duration": 864,
    "start_time": "2024-09-10T10:45:33.257Z"
   },
   {
    "duration": 5,
    "start_time": "2024-09-10T10:45:35.637Z"
   },
   {
    "duration": 10,
    "start_time": "2024-09-10T10:45:35.942Z"
   },
   {
    "duration": 8,
    "start_time": "2024-09-10T10:45:36.091Z"
   },
   {
    "duration": 634,
    "start_time": "2024-09-10T10:45:36.256Z"
   },
   {
    "duration": 4,
    "start_time": "2024-09-10T10:45:37.947Z"
   },
   {
    "duration": 8,
    "start_time": "2024-09-10T10:45:38.441Z"
   },
   {
    "duration": 6,
    "start_time": "2024-09-10T10:45:39.268Z"
   },
   {
    "duration": 6,
    "start_time": "2024-09-10T10:45:39.397Z"
   },
   {
    "duration": 4,
    "start_time": "2024-09-10T10:45:40.212Z"
   },
   {
    "duration": 3,
    "start_time": "2024-09-10T10:45:40.368Z"
   },
   {
    "duration": 5,
    "start_time": "2024-09-10T10:45:40.666Z"
   },
   {
    "duration": 4,
    "start_time": "2024-09-10T10:45:41.611Z"
   },
   {
    "duration": 2313,
    "start_time": "2024-09-10T10:45:43.702Z"
   },
   {
    "duration": 534,
    "start_time": "2024-09-10T10:47:14.901Z"
   },
   {
    "duration": 2935,
    "start_time": "2024-09-10T10:47:37.887Z"
   },
   {
    "duration": 2510,
    "start_time": "2024-09-10T10:50:00.413Z"
   },
   {
    "duration": 2720,
    "start_time": "2024-09-10T10:51:02.523Z"
   },
   {
    "duration": 86360,
    "start_time": "2024-09-10T10:51:49.957Z"
   },
   {
    "duration": 4,
    "start_time": "2024-09-10T10:54:14.916Z"
   },
   {
    "duration": 55,
    "start_time": "2024-09-10T10:54:20.061Z"
   },
   {
    "duration": 22,
    "start_time": "2024-09-10T10:54:42.306Z"
   },
   {
    "duration": 5,
    "start_time": "2024-09-10T10:54:47.507Z"
   },
   {
    "duration": 55,
    "start_time": "2024-09-10T10:54:59.176Z"
   },
   {
    "duration": 58,
    "start_time": "2024-09-10T10:55:18.166Z"
   },
   {
    "duration": 29881,
    "start_time": "2024-09-10T10:55:22.329Z"
   },
   {
    "duration": 218,
    "start_time": "2024-09-10T10:57:44.272Z"
   },
   {
    "duration": 341,
    "start_time": "2024-09-10T11:00:56.982Z"
   },
   {
    "duration": 9,
    "start_time": "2024-09-10T11:01:05.215Z"
   },
   {
    "duration": 8,
    "start_time": "2024-09-10T11:01:14.326Z"
   },
   {
    "duration": 59,
    "start_time": "2024-09-10T11:01:31.825Z"
   },
   {
    "duration": 7,
    "start_time": "2024-09-10T11:01:37.437Z"
   },
   {
    "duration": 65,
    "start_time": "2024-09-10T11:01:44.078Z"
   },
   {
    "duration": 26,
    "start_time": "2024-09-10T11:01:47.971Z"
   },
   {
    "duration": 43,
    "start_time": "2024-09-10T11:01:52.647Z"
   },
   {
    "duration": 46,
    "start_time": "2024-09-10T11:02:02.247Z"
   },
   {
    "duration": 8,
    "start_time": "2024-09-10T11:02:07.047Z"
   },
   {
    "duration": 24,
    "start_time": "2024-09-10T11:25:13.837Z"
   },
   {
    "duration": 38,
    "start_time": "2024-09-10T11:25:28.046Z"
   },
   {
    "duration": 139,
    "start_time": "2024-09-10T11:26:09.087Z"
   },
   {
    "duration": 36,
    "start_time": "2024-09-10T11:26:24.962Z"
   },
   {
    "duration": 56,
    "start_time": "2024-09-10T11:31:59.882Z"
   },
   {
    "duration": 35,
    "start_time": "2024-09-10T11:32:07.457Z"
   },
   {
    "duration": 813,
    "start_time": "2024-09-10T11:32:34.617Z"
   },
   {
    "duration": 25581,
    "start_time": "2024-09-10T11:35:21.887Z"
   },
   {
    "duration": 23356,
    "start_time": "2024-09-10T11:35:54.597Z"
   },
   {
    "duration": 0,
    "start_time": "2024-09-10T11:36:46.421Z"
   },
   {
    "duration": 2351,
    "start_time": "2024-09-10T11:37:08.029Z"
   },
   {
    "duration": 29,
    "start_time": "2024-09-10T11:37:10.382Z"
   },
   {
    "duration": 2,
    "start_time": "2024-09-10T11:37:10.413Z"
   },
   {
    "duration": 6,
    "start_time": "2024-09-10T11:37:10.417Z"
   },
   {
    "duration": 8,
    "start_time": "2024-09-10T11:37:10.425Z"
   },
   {
    "duration": 8,
    "start_time": "2024-09-10T11:37:10.661Z"
   },
   {
    "duration": 7,
    "start_time": "2024-09-10T11:37:11.102Z"
   },
   {
    "duration": 6,
    "start_time": "2024-09-10T11:37:11.326Z"
   },
   {
    "duration": 8,
    "start_time": "2024-09-10T11:37:11.579Z"
   },
   {
    "duration": 826,
    "start_time": "2024-09-10T11:37:11.791Z"
   },
   {
    "duration": 5,
    "start_time": "2024-09-10T11:37:12.620Z"
   },
   {
    "duration": 11,
    "start_time": "2024-09-10T11:37:12.811Z"
   },
   {
    "duration": 7,
    "start_time": "2024-09-10T11:37:12.966Z"
   },
   {
    "duration": 663,
    "start_time": "2024-09-10T11:37:13.409Z"
   },
   {
    "duration": 3,
    "start_time": "2024-09-10T11:37:15.176Z"
   },
   {
    "duration": 8,
    "start_time": "2024-09-10T11:37:15.496Z"
   },
   {
    "duration": 6,
    "start_time": "2024-09-10T11:37:15.711Z"
   },
   {
    "duration": 6,
    "start_time": "2024-09-10T11:37:16.221Z"
   },
   {
    "duration": 4,
    "start_time": "2024-09-10T11:37:16.802Z"
   },
   {
    "duration": 5,
    "start_time": "2024-09-10T11:37:16.937Z"
   },
   {
    "duration": 6,
    "start_time": "2024-09-10T11:37:17.306Z"
   },
   {
    "duration": 29967,
    "start_time": "2024-09-10T11:37:21.851Z"
   },
   {
    "duration": 6,
    "start_time": "2024-09-10T11:46:33.111Z"
   },
   {
    "duration": 86751,
    "start_time": "2024-09-10T11:47:00.476Z"
   },
   {
    "duration": 9,
    "start_time": "2024-09-10T11:49:23.869Z"
   },
   {
    "duration": 30508,
    "start_time": "2024-09-10T11:50:41.219Z"
   },
   {
    "duration": 9,
    "start_time": "2024-09-10T11:51:58.131Z"
   },
   {
    "duration": 424,
    "start_time": "2024-09-10T11:52:05.592Z"
   },
   {
    "duration": 6,
    "start_time": "2024-09-10T11:52:23.469Z"
   },
   {
    "duration": 6,
    "start_time": "2024-09-10T11:52:42.086Z"
   },
   {
    "duration": 272,
    "start_time": "2024-09-10T11:52:52.646Z"
   },
   {
    "duration": 5,
    "start_time": "2024-09-10T11:54:47.157Z"
   },
   {
    "duration": 86467,
    "start_time": "2024-09-10T11:55:04.368Z"
   },
   {
    "duration": 21,
    "start_time": "2024-09-10T11:59:30.109Z"
   },
   {
    "duration": 8,
    "start_time": "2024-09-10T12:00:39.772Z"
   },
   {
    "duration": 30101,
    "start_time": "2024-09-10T12:01:05.116Z"
   },
   {
    "duration": 130930,
    "start_time": "2024-09-10T12:09:59.873Z"
   },
   {
    "duration": 86883,
    "start_time": "2024-09-10T12:20:54.447Z"
   },
   {
    "duration": 30683,
    "start_time": "2024-09-10T12:22:53.027Z"
   },
   {
    "duration": 4,
    "start_time": "2024-09-10T12:58:19.416Z"
   },
   {
    "duration": 2870,
    "start_time": "2024-09-10T12:59:15.966Z"
   },
   {
    "duration": 162,
    "start_time": "2024-09-10T13:15:05.048Z"
   },
   {
    "duration": 2436,
    "start_time": "2024-09-10T13:15:18.121Z"
   },
   {
    "duration": 28,
    "start_time": "2024-09-10T13:15:20.560Z"
   },
   {
    "duration": 3,
    "start_time": "2024-09-10T13:15:20.589Z"
   },
   {
    "duration": 14,
    "start_time": "2024-09-10T13:15:20.595Z"
   },
   {
    "duration": 7,
    "start_time": "2024-09-10T13:15:20.611Z"
   },
   {
    "duration": 7,
    "start_time": "2024-09-10T13:15:20.685Z"
   },
   {
    "duration": 6,
    "start_time": "2024-09-10T13:15:21.101Z"
   },
   {
    "duration": 6,
    "start_time": "2024-09-10T13:15:21.243Z"
   },
   {
    "duration": 8,
    "start_time": "2024-09-10T13:15:21.511Z"
   },
   {
    "duration": 890,
    "start_time": "2024-09-10T13:15:21.651Z"
   },
   {
    "duration": 7,
    "start_time": "2024-09-10T13:15:22.543Z"
   },
   {
    "duration": 10,
    "start_time": "2024-09-10T13:15:22.626Z"
   },
   {
    "duration": 7,
    "start_time": "2024-09-10T13:15:23.032Z"
   },
   {
    "duration": 639,
    "start_time": "2024-09-10T13:15:23.631Z"
   },
   {
    "duration": 4,
    "start_time": "2024-09-10T13:15:25.921Z"
   },
   {
    "duration": 8,
    "start_time": "2024-09-10T13:15:26.691Z"
   },
   {
    "duration": 7,
    "start_time": "2024-09-10T13:15:27.291Z"
   },
   {
    "duration": 6,
    "start_time": "2024-09-10T13:15:27.426Z"
   },
   {
    "duration": 4,
    "start_time": "2024-09-10T13:15:28.956Z"
   },
   {
    "duration": 3,
    "start_time": "2024-09-10T13:15:29.108Z"
   },
   {
    "duration": 6,
    "start_time": "2024-09-10T13:15:29.291Z"
   },
   {
    "duration": 3,
    "start_time": "2024-09-10T13:15:52.297Z"
   },
   {
    "duration": 582,
    "start_time": "2024-09-10T13:39:55.233Z"
   },
   {
    "duration": 5023,
    "start_time": "2024-09-10T13:40:27.714Z"
   },
   {
    "duration": 14540,
    "start_time": "2024-09-10T13:40:43.912Z"
   },
   {
    "duration": 6,
    "start_time": "2024-09-10T13:43:41.916Z"
   },
   {
    "duration": 23,
    "start_time": "2024-09-10T13:44:30.991Z"
   },
   {
    "duration": 4,
    "start_time": "2024-09-10T13:44:52.256Z"
   },
   {
    "duration": 7,
    "start_time": "2024-09-10T13:44:56.217Z"
   },
   {
    "duration": 49493,
    "start_time": "2024-09-10T13:45:02.237Z"
   },
   {
    "duration": 45778,
    "start_time": "2024-09-10T13:46:07.732Z"
   },
   {
    "duration": 29,
    "start_time": "2024-09-10T13:50:34.136Z"
   },
   {
    "duration": 50147,
    "start_time": "2024-09-10T13:50:56.481Z"
   },
   {
    "duration": 40,
    "start_time": "2024-09-10T13:52:43.667Z"
   },
   {
    "duration": 31,
    "start_time": "2024-09-10T13:55:08.853Z"
   },
   {
    "duration": 57214,
    "start_time": "2024-09-10T13:55:51.222Z"
   },
   {
    "duration": 277,
    "start_time": "2024-09-10T14:04:19.291Z"
   },
   {
    "duration": 4,
    "start_time": "2024-09-10T14:04:50.335Z"
   },
   {
    "duration": 4,
    "start_time": "2024-09-10T14:05:10.411Z"
   },
   {
    "duration": 121646,
    "start_time": "2024-09-10T14:05:27.551Z"
   },
   {
    "duration": 4,
    "start_time": "2024-09-10T14:09:00.432Z"
   },
   {
    "duration": 4,
    "start_time": "2024-09-10T14:09:06.288Z"
   },
   {
    "duration": 24,
    "start_time": "2024-09-10T14:09:56.581Z"
   },
   {
    "duration": 4,
    "start_time": "2024-09-10T14:10:09.590Z"
   },
   {
    "duration": 4,
    "start_time": "2024-09-10T14:11:24.336Z"
   },
   {
    "duration": 5,
    "start_time": "2024-09-10T14:12:00.042Z"
   },
   {
    "duration": 18,
    "start_time": "2024-09-10T14:12:51.191Z"
   },
   {
    "duration": 5,
    "start_time": "2024-09-10T14:12:56.697Z"
   },
   {
    "duration": 134,
    "start_time": "2024-09-10T14:13:02.447Z"
   },
   {
    "duration": 49,
    "start_time": "2024-09-10T14:13:12.571Z"
   },
   {
    "duration": 15,
    "start_time": "2024-09-10T14:13:22.731Z"
   },
   {
    "duration": 9919,
    "start_time": "2024-09-10T14:14:18.902Z"
   },
   {
    "duration": 2316,
    "start_time": "2024-09-10T14:17:34.193Z"
   },
   {
    "duration": 25,
    "start_time": "2024-09-10T14:17:36.511Z"
   },
   {
    "duration": 3,
    "start_time": "2024-09-10T14:17:37.127Z"
   },
   {
    "duration": 6,
    "start_time": "2024-09-10T14:17:37.386Z"
   },
   {
    "duration": 10,
    "start_time": "2024-09-10T14:17:37.647Z"
   },
   {
    "duration": 7,
    "start_time": "2024-09-10T14:17:38.547Z"
   },
   {
    "duration": 6,
    "start_time": "2024-09-10T14:17:38.854Z"
   },
   {
    "duration": 9,
    "start_time": "2024-09-10T14:17:39.026Z"
   },
   {
    "duration": 7,
    "start_time": "2024-09-10T14:17:39.157Z"
   },
   {
    "duration": 875,
    "start_time": "2024-09-10T14:17:39.334Z"
   },
   {
    "duration": 6,
    "start_time": "2024-09-10T14:17:40.212Z"
   },
   {
    "duration": 11,
    "start_time": "2024-09-10T14:17:40.219Z"
   },
   {
    "duration": 8,
    "start_time": "2024-09-10T14:17:40.357Z"
   },
   {
    "duration": 657,
    "start_time": "2024-09-10T14:17:40.912Z"
   },
   {
    "duration": 4,
    "start_time": "2024-09-10T14:17:44.799Z"
   },
   {
    "duration": 8,
    "start_time": "2024-09-10T14:17:46.947Z"
   },
   {
    "duration": 8,
    "start_time": "2024-09-10T14:17:55.490Z"
   },
   {
    "duration": 7,
    "start_time": "2024-09-10T14:17:57.237Z"
   },
   {
    "duration": 4,
    "start_time": "2024-09-10T14:19:10.559Z"
   },
   {
    "duration": 9,
    "start_time": "2024-09-10T14:19:15.953Z"
   },
   {
    "duration": 8,
    "start_time": "2024-09-10T14:19:30.179Z"
   },
   {
    "duration": 3,
    "start_time": "2024-09-10T14:19:38.312Z"
   },
   {
    "duration": 4,
    "start_time": "2024-09-10T14:19:38.612Z"
   },
   {
    "duration": 6,
    "start_time": "2024-09-10T14:19:39.852Z"
   },
   {
    "duration": 4,
    "start_time": "2024-09-10T14:19:43.867Z"
   },
   {
    "duration": 4,
    "start_time": "2024-09-10T14:19:44.902Z"
   },
   {
    "duration": 19,
    "start_time": "2024-09-10T14:19:46.028Z"
   },
   {
    "duration": 10193,
    "start_time": "2024-09-10T14:20:10.389Z"
   },
   {
    "duration": 2309,
    "start_time": "2024-09-10T14:21:02.685Z"
   },
   {
    "duration": 29,
    "start_time": "2024-09-10T14:21:04.996Z"
   },
   {
    "duration": 3,
    "start_time": "2024-09-10T14:21:05.027Z"
   },
   {
    "duration": 6,
    "start_time": "2024-09-10T14:21:05.032Z"
   },
   {
    "duration": 8,
    "start_time": "2024-09-10T14:21:05.040Z"
   },
   {
    "duration": 7,
    "start_time": "2024-09-10T14:21:05.050Z"
   },
   {
    "duration": 5,
    "start_time": "2024-09-10T14:21:05.296Z"
   },
   {
    "duration": 6,
    "start_time": "2024-09-10T14:21:05.456Z"
   },
   {
    "duration": 8,
    "start_time": "2024-09-10T14:21:05.661Z"
   },
   {
    "duration": 891,
    "start_time": "2024-09-10T14:21:06.134Z"
   },
   {
    "duration": 5,
    "start_time": "2024-09-10T14:21:07.028Z"
   },
   {
    "duration": 13,
    "start_time": "2024-09-10T14:21:07.198Z"
   },
   {
    "duration": 6,
    "start_time": "2024-09-10T14:21:07.609Z"
   },
   {
    "duration": 666,
    "start_time": "2024-09-10T14:21:08.097Z"
   },
   {
    "duration": 3,
    "start_time": "2024-09-10T14:21:11.567Z"
   },
   {
    "duration": 8,
    "start_time": "2024-09-10T14:21:12.601Z"
   },
   {
    "duration": 7,
    "start_time": "2024-09-10T14:21:14.936Z"
   },
   {
    "duration": 6,
    "start_time": "2024-09-10T14:21:21.278Z"
   },
   {
    "duration": 6,
    "start_time": "2024-09-10T14:21:21.871Z"
   },
   {
    "duration": 5,
    "start_time": "2024-09-10T14:21:41.366Z"
   },
   {
    "duration": 3,
    "start_time": "2024-09-10T14:21:41.662Z"
   },
   {
    "duration": 7,
    "start_time": "2024-09-10T14:21:42.592Z"
   },
   {
    "duration": 4,
    "start_time": "2024-09-10T14:22:17.597Z"
   },
   {
    "duration": 3,
    "start_time": "2024-09-10T14:22:23.187Z"
   },
   {
    "duration": 39,
    "start_time": "2024-09-10T14:22:37.172Z"
   },
   {
    "duration": 2566,
    "start_time": "2024-09-10T14:22:40.704Z"
   },
   {
    "duration": 7,
    "start_time": "2024-09-10T14:23:01.023Z"
   },
   {
    "duration": 3,
    "start_time": "2024-09-10T14:23:13.186Z"
   },
   {
    "duration": 4,
    "start_time": "2024-09-10T14:23:13.667Z"
   },
   {
    "duration": 11,
    "start_time": "2024-09-10T14:23:14.580Z"
   },
   {
    "duration": 9651,
    "start_time": "2024-09-10T14:23:17.821Z"
   },
   {
    "duration": 3,
    "start_time": "2024-09-10T14:25:30.221Z"
   },
   {
    "duration": 266,
    "start_time": "2024-09-10T14:25:33.621Z"
   },
   {
    "duration": 3,
    "start_time": "2024-09-10T14:25:48.366Z"
   },
   {
    "duration": 50194,
    "start_time": "2024-09-10T14:26:06.932Z"
   },
   {
    "duration": 49975,
    "start_time": "2024-09-10T14:28:41.752Z"
   },
   {
    "duration": 32732,
    "start_time": "2024-09-10T14:29:54.681Z"
   },
   {
    "duration": 2423,
    "start_time": "2024-09-10T14:43:38.338Z"
   },
   {
    "duration": 29,
    "start_time": "2024-09-10T14:43:40.764Z"
   },
   {
    "duration": 3,
    "start_time": "2024-09-10T14:43:40.795Z"
   },
   {
    "duration": 13,
    "start_time": "2024-09-10T14:43:40.800Z"
   },
   {
    "duration": 8,
    "start_time": "2024-09-10T14:43:40.815Z"
   },
   {
    "duration": 7,
    "start_time": "2024-09-10T14:43:40.825Z"
   },
   {
    "duration": 5,
    "start_time": "2024-09-10T14:43:40.833Z"
   },
   {
    "duration": 6,
    "start_time": "2024-09-10T14:43:40.840Z"
   },
   {
    "duration": 6,
    "start_time": "2024-09-10T14:43:40.993Z"
   },
   {
    "duration": 887,
    "start_time": "2024-09-10T14:43:41.214Z"
   },
   {
    "duration": 6,
    "start_time": "2024-09-10T14:43:42.104Z"
   },
   {
    "duration": 11,
    "start_time": "2024-09-10T14:43:42.300Z"
   },
   {
    "duration": 7,
    "start_time": "2024-09-10T14:43:42.719Z"
   },
   {
    "duration": 660,
    "start_time": "2024-09-10T14:43:43.213Z"
   },
   {
    "duration": 4,
    "start_time": "2024-09-10T14:43:45.088Z"
   },
   {
    "duration": 8,
    "start_time": "2024-09-10T14:43:45.713Z"
   },
   {
    "duration": 7,
    "start_time": "2024-09-10T14:43:45.893Z"
   },
   {
    "duration": 7,
    "start_time": "2024-09-10T14:43:46.512Z"
   },
   {
    "duration": 7,
    "start_time": "2024-09-10T14:43:47.298Z"
   },
   {
    "duration": 3,
    "start_time": "2024-09-10T14:43:49.799Z"
   },
   {
    "duration": 4,
    "start_time": "2024-09-10T14:43:50.112Z"
   },
   {
    "duration": 8,
    "start_time": "2024-09-10T14:43:50.487Z"
   },
   {
    "duration": 3,
    "start_time": "2024-09-10T14:43:53.278Z"
   },
   {
    "duration": 3,
    "start_time": "2024-09-10T14:43:54.448Z"
   },
   {
    "duration": 3003,
    "start_time": "2024-09-10T14:51:05.487Z"
   },
   {
    "duration": 3,
    "start_time": "2024-09-10T14:55:21.043Z"
   },
   {
    "duration": 3,
    "start_time": "2024-09-10T14:55:24.408Z"
   },
   {
    "duration": 53391,
    "start_time": "2024-09-10T14:55:29.437Z"
   },
   {
    "duration": 2934,
    "start_time": "2024-09-10T14:56:32.458Z"
   },
   {
    "duration": 441,
    "start_time": "2024-09-10T15:58:26.717Z"
   },
   {
    "duration": 8,
    "start_time": "2024-09-10T15:59:11.522Z"
   },
   {
    "duration": 68671,
    "start_time": "2024-09-10T15:59:14.833Z"
   },
   {
    "duration": 4,
    "start_time": "2024-09-10T16:01:31.377Z"
   },
   {
    "duration": 25,
    "start_time": "2024-09-10T16:01:45.413Z"
   },
   {
    "duration": 8,
    "start_time": "2024-09-10T16:01:53.692Z"
   },
   {
    "duration": 5,
    "start_time": "2024-09-10T16:02:16.247Z"
   },
   {
    "duration": 8,
    "start_time": "2024-09-10T16:02:38.062Z"
   },
   {
    "duration": 11704,
    "start_time": "2024-09-10T17:45:41.108Z"
   },
   {
    "duration": 201,
    "start_time": "2024-09-10T17:45:52.814Z"
   },
   {
    "duration": 3,
    "start_time": "2024-09-10T17:45:53.018Z"
   },
   {
    "duration": 8,
    "start_time": "2024-09-10T17:45:53.026Z"
   },
   {
    "duration": 9,
    "start_time": "2024-09-10T17:45:53.106Z"
   },
   {
    "duration": 10,
    "start_time": "2024-09-10T17:45:53.120Z"
   },
   {
    "duration": 83,
    "start_time": "2024-09-10T17:45:53.133Z"
   },
   {
    "duration": 9,
    "start_time": "2024-09-10T17:45:53.222Z"
   },
   {
    "duration": 6,
    "start_time": "2024-09-10T17:45:53.233Z"
   },
   {
    "duration": 4464,
    "start_time": "2024-09-10T17:45:53.242Z"
   },
   {
    "duration": 13,
    "start_time": "2024-09-10T17:45:57.708Z"
   },
   {
    "duration": 93,
    "start_time": "2024-09-10T17:45:57.723Z"
   },
   {
    "duration": 9,
    "start_time": "2024-09-10T17:45:57.818Z"
   },
   {
    "duration": 3316,
    "start_time": "2024-09-10T17:45:57.905Z"
   },
   {
    "duration": 81,
    "start_time": "2024-09-10T17:46:01.224Z"
   },
   {
    "duration": 10,
    "start_time": "2024-09-10T17:46:01.309Z"
   },
   {
    "duration": 7,
    "start_time": "2024-09-10T17:46:01.322Z"
   },
   {
    "duration": 74,
    "start_time": "2024-09-10T17:46:01.332Z"
   },
   {
    "duration": 12,
    "start_time": "2024-09-10T17:46:01.410Z"
   },
   {
    "duration": 81,
    "start_time": "2024-09-10T17:46:01.425Z"
   },
   {
    "duration": 4,
    "start_time": "2024-09-10T17:46:01.508Z"
   },
   {
    "duration": 6,
    "start_time": "2024-09-10T17:46:01.515Z"
   },
   {
    "duration": 3,
    "start_time": "2024-09-10T17:46:01.523Z"
   },
   {
    "duration": 4706,
    "start_time": "2024-09-10T17:46:12.806Z"
   },
   {
    "duration": 6,
    "start_time": "2024-09-10T17:46:58.907Z"
   },
   {
    "duration": 5,
    "start_time": "2024-09-10T17:47:04.617Z"
   },
   {
    "duration": 18315,
    "start_time": "2024-09-10T17:47:12.906Z"
   },
   {
    "duration": 113,
    "start_time": "2024-09-10T17:48:27.807Z"
   },
   {
    "duration": 63,
    "start_time": "2024-09-10T17:48:33.074Z"
   },
   {
    "duration": 17618,
    "start_time": "2024-09-10T17:48:39.908Z"
   },
   {
    "duration": 5208,
    "start_time": "2024-09-10T17:49:16.507Z"
   },
   {
    "duration": 11818,
    "start_time": "2024-09-10T17:50:05.107Z"
   },
   {
    "duration": 18899,
    "start_time": "2024-09-10T17:53:16.408Z"
   },
   {
    "duration": 11297,
    "start_time": "2024-09-10T17:53:47.426Z"
   },
   {
    "duration": 11652,
    "start_time": "2024-09-10T17:54:09.982Z"
   },
   {
    "duration": 11165,
    "start_time": "2024-09-10T17:54:28.557Z"
   },
   {
    "duration": 11504,
    "start_time": "2024-09-10T17:54:41.921Z"
   },
   {
    "duration": 11543,
    "start_time": "2024-09-10T17:55:00.779Z"
   }
  ],
  "kernelspec": {
   "display_name": "Python 3 (ipykernel)",
   "language": "python",
   "name": "python3"
  },
  "language_info": {
   "codemirror_mode": {
    "name": "ipython",
    "version": 3
   },
   "file_extension": ".py",
   "mimetype": "text/x-python",
   "name": "python",
   "nbconvert_exporter": "python",
   "pygments_lexer": "ipython3",
   "version": "3.12.3"
  },
  "toc": {
   "base_numbering": 1,
   "nav_menu": {
    "height": "366px",
    "width": "321px"
   },
   "number_sections": true,
   "sideBar": true,
   "skip_h1_title": true,
   "title_cell": "Table of Contents",
   "title_sidebar": "Contents",
   "toc_cell": false,
   "toc_position": {
    "height": "calc(100% - 180px)",
    "left": "10px",
    "top": "150px",
    "width": "198px"
   },
   "toc_section_display": true,
   "toc_window_display": true
  }
 },
 "nbformat": 4,
 "nbformat_minor": 2
}
